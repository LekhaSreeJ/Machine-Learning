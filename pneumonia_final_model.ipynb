{
 "cells": [
  {
   "cell_type": "markdown",
   "id": "0d10af9c",
   "metadata": {},
   "source": [
    "# pneumonia prediction using basic algorithms\n",
    "# model building "
   ]
  },
  {
   "cell_type": "code",
   "execution_count": 3,
   "id": "0e6826f9",
   "metadata": {},
   "outputs": [],
   "source": [
    "import ipynb"
   ]
  },
  {
   "cell_type": "code",
   "execution_count": 4,
   "id": "b843c76e",
   "metadata": {},
   "outputs": [
    {
     "data": {
      "text/plain": [
       "<Figure size 432x288 with 0 Axes>"
      ]
     },
     "metadata": {},
     "output_type": "display_data"
    }
   ],
   "source": [
    "# importing the dataset notebook where the dataframe was created\n",
    "\n",
    "from ipynb.fs.full.pneumonia_final_dataset import train_data,test_data"
   ]
  },
  {
   "cell_type": "code",
   "execution_count": 5,
   "id": "a8655fef",
   "metadata": {},
   "outputs": [
    {
     "data": {
      "text/html": [
       "<div>\n",
       "<style scoped>\n",
       "    .dataframe tbody tr th:only-of-type {\n",
       "        vertical-align: middle;\n",
       "    }\n",
       "\n",
       "    .dataframe tbody tr th {\n",
       "        vertical-align: top;\n",
       "    }\n",
       "\n",
       "    .dataframe thead th {\n",
       "        text-align: right;\n",
       "    }\n",
       "</style>\n",
       "<table border=\"1\" class=\"dataframe\">\n",
       "  <thead>\n",
       "    <tr style=\"text-align: right;\">\n",
       "      <th></th>\n",
       "      <th>0</th>\n",
       "      <th>1</th>\n",
       "      <th>2</th>\n",
       "      <th>3</th>\n",
       "      <th>4</th>\n",
       "      <th>5</th>\n",
       "      <th>6</th>\n",
       "      <th>7</th>\n",
       "      <th>8</th>\n",
       "      <th>9</th>\n",
       "      <th>...</th>\n",
       "      <th>6391</th>\n",
       "      <th>6392</th>\n",
       "      <th>6393</th>\n",
       "      <th>6394</th>\n",
       "      <th>6395</th>\n",
       "      <th>6396</th>\n",
       "      <th>6397</th>\n",
       "      <th>6398</th>\n",
       "      <th>6399</th>\n",
       "      <th>target</th>\n",
       "    </tr>\n",
       "  </thead>\n",
       "  <tbody>\n",
       "    <tr>\n",
       "      <th>1272</th>\n",
       "      <td>117</td>\n",
       "      <td>84</td>\n",
       "      <td>71</td>\n",
       "      <td>67</td>\n",
       "      <td>63</td>\n",
       "      <td>64</td>\n",
       "      <td>79</td>\n",
       "      <td>92</td>\n",
       "      <td>95</td>\n",
       "      <td>92</td>\n",
       "      <td>...</td>\n",
       "      <td>101</td>\n",
       "      <td>103</td>\n",
       "      <td>102</td>\n",
       "      <td>85</td>\n",
       "      <td>62</td>\n",
       "      <td>39</td>\n",
       "      <td>21</td>\n",
       "      <td>7</td>\n",
       "      <td>0</td>\n",
       "      <td>1</td>\n",
       "    </tr>\n",
       "    <tr>\n",
       "      <th>1155</th>\n",
       "      <td>0</td>\n",
       "      <td>0</td>\n",
       "      <td>0</td>\n",
       "      <td>0</td>\n",
       "      <td>0</td>\n",
       "      <td>0</td>\n",
       "      <td>0</td>\n",
       "      <td>0</td>\n",
       "      <td>0</td>\n",
       "      <td>6</td>\n",
       "      <td>...</td>\n",
       "      <td>-57</td>\n",
       "      <td>-71</td>\n",
       "      <td>-91</td>\n",
       "      <td>-101</td>\n",
       "      <td>-123</td>\n",
       "      <td>-124</td>\n",
       "      <td>126</td>\n",
       "      <td>55</td>\n",
       "      <td>5</td>\n",
       "      <td>0</td>\n",
       "    </tr>\n",
       "    <tr>\n",
       "      <th>811</th>\n",
       "      <td>16</td>\n",
       "      <td>53</td>\n",
       "      <td>76</td>\n",
       "      <td>91</td>\n",
       "      <td>105</td>\n",
       "      <td>112</td>\n",
       "      <td>113</td>\n",
       "      <td>111</td>\n",
       "      <td>-112</td>\n",
       "      <td>-105</td>\n",
       "      <td>...</td>\n",
       "      <td>51</td>\n",
       "      <td>7</td>\n",
       "      <td>0</td>\n",
       "      <td>0</td>\n",
       "      <td>0</td>\n",
       "      <td>0</td>\n",
       "      <td>0</td>\n",
       "      <td>0</td>\n",
       "      <td>0</td>\n",
       "      <td>0</td>\n",
       "    </tr>\n",
       "    <tr>\n",
       "      <th>70</th>\n",
       "      <td>0</td>\n",
       "      <td>0</td>\n",
       "      <td>0</td>\n",
       "      <td>0</td>\n",
       "      <td>3</td>\n",
       "      <td>15</td>\n",
       "      <td>27</td>\n",
       "      <td>37</td>\n",
       "      <td>49</td>\n",
       "      <td>58</td>\n",
       "      <td>...</td>\n",
       "      <td>0</td>\n",
       "      <td>0</td>\n",
       "      <td>0</td>\n",
       "      <td>0</td>\n",
       "      <td>0</td>\n",
       "      <td>0</td>\n",
       "      <td>0</td>\n",
       "      <td>0</td>\n",
       "      <td>0</td>\n",
       "      <td>0</td>\n",
       "    </tr>\n",
       "    <tr>\n",
       "      <th>551</th>\n",
       "      <td>27</td>\n",
       "      <td>64</td>\n",
       "      <td>109</td>\n",
       "      <td>101</td>\n",
       "      <td>101</td>\n",
       "      <td>107</td>\n",
       "      <td>106</td>\n",
       "      <td>100</td>\n",
       "      <td>85</td>\n",
       "      <td>54</td>\n",
       "      <td>...</td>\n",
       "      <td>-114</td>\n",
       "      <td>-120</td>\n",
       "      <td>124</td>\n",
       "      <td>122</td>\n",
       "      <td>-118</td>\n",
       "      <td>-123</td>\n",
       "      <td>102</td>\n",
       "      <td>52</td>\n",
       "      <td>5</td>\n",
       "      <td>0</td>\n",
       "    </tr>\n",
       "    <tr>\n",
       "      <th>...</th>\n",
       "      <td>...</td>\n",
       "      <td>...</td>\n",
       "      <td>...</td>\n",
       "      <td>...</td>\n",
       "      <td>...</td>\n",
       "      <td>...</td>\n",
       "      <td>...</td>\n",
       "      <td>...</td>\n",
       "      <td>...</td>\n",
       "      <td>...</td>\n",
       "      <td>...</td>\n",
       "      <td>...</td>\n",
       "      <td>...</td>\n",
       "      <td>...</td>\n",
       "      <td>...</td>\n",
       "      <td>...</td>\n",
       "      <td>...</td>\n",
       "      <td>...</td>\n",
       "      <td>...</td>\n",
       "      <td>...</td>\n",
       "      <td>...</td>\n",
       "    </tr>\n",
       "    <tr>\n",
       "      <th>1146</th>\n",
       "      <td>9</td>\n",
       "      <td>9</td>\n",
       "      <td>9</td>\n",
       "      <td>9</td>\n",
       "      <td>9</td>\n",
       "      <td>10</td>\n",
       "      <td>11</td>\n",
       "      <td>13</td>\n",
       "      <td>14</td>\n",
       "      <td>14</td>\n",
       "      <td>...</td>\n",
       "      <td>62</td>\n",
       "      <td>34</td>\n",
       "      <td>8</td>\n",
       "      <td>3</td>\n",
       "      <td>4</td>\n",
       "      <td>3</td>\n",
       "      <td>2</td>\n",
       "      <td>2</td>\n",
       "      <td>2</td>\n",
       "      <td>0</td>\n",
       "    </tr>\n",
       "    <tr>\n",
       "      <th>1259</th>\n",
       "      <td>11</td>\n",
       "      <td>40</td>\n",
       "      <td>67</td>\n",
       "      <td>86</td>\n",
       "      <td>97</td>\n",
       "      <td>99</td>\n",
       "      <td>97</td>\n",
       "      <td>105</td>\n",
       "      <td>-128</td>\n",
       "      <td>-119</td>\n",
       "      <td>...</td>\n",
       "      <td>116</td>\n",
       "      <td>79</td>\n",
       "      <td>50</td>\n",
       "      <td>14</td>\n",
       "      <td>0</td>\n",
       "      <td>0</td>\n",
       "      <td>0</td>\n",
       "      <td>0</td>\n",
       "      <td>0</td>\n",
       "      <td>0</td>\n",
       "    </tr>\n",
       "    <tr>\n",
       "      <th>164</th>\n",
       "      <td>80</td>\n",
       "      <td>104</td>\n",
       "      <td>-119</td>\n",
       "      <td>120</td>\n",
       "      <td>105</td>\n",
       "      <td>110</td>\n",
       "      <td>105</td>\n",
       "      <td>108</td>\n",
       "      <td>-126</td>\n",
       "      <td>-125</td>\n",
       "      <td>...</td>\n",
       "      <td>13</td>\n",
       "      <td>3</td>\n",
       "      <td>2</td>\n",
       "      <td>3</td>\n",
       "      <td>4</td>\n",
       "      <td>5</td>\n",
       "      <td>9</td>\n",
       "      <td>4</td>\n",
       "      <td>3</td>\n",
       "      <td>1</td>\n",
       "    </tr>\n",
       "    <tr>\n",
       "      <th>399</th>\n",
       "      <td>49</td>\n",
       "      <td>78</td>\n",
       "      <td>98</td>\n",
       "      <td>113</td>\n",
       "      <td>121</td>\n",
       "      <td>127</td>\n",
       "      <td>-125</td>\n",
       "      <td>-116</td>\n",
       "      <td>-94</td>\n",
       "      <td>-99</td>\n",
       "      <td>...</td>\n",
       "      <td>-115</td>\n",
       "      <td>-122</td>\n",
       "      <td>104</td>\n",
       "      <td>46</td>\n",
       "      <td>9</td>\n",
       "      <td>16</td>\n",
       "      <td>20</td>\n",
       "      <td>24</td>\n",
       "      <td>26</td>\n",
       "      <td>0</td>\n",
       "    </tr>\n",
       "    <tr>\n",
       "      <th>1254</th>\n",
       "      <td>12</td>\n",
       "      <td>12</td>\n",
       "      <td>11</td>\n",
       "      <td>15</td>\n",
       "      <td>102</td>\n",
       "      <td>42</td>\n",
       "      <td>18</td>\n",
       "      <td>22</td>\n",
       "      <td>22</td>\n",
       "      <td>77</td>\n",
       "      <td>...</td>\n",
       "      <td>11</td>\n",
       "      <td>11</td>\n",
       "      <td>12</td>\n",
       "      <td>12</td>\n",
       "      <td>13</td>\n",
       "      <td>13</td>\n",
       "      <td>14</td>\n",
       "      <td>14</td>\n",
       "      <td>14</td>\n",
       "      <td>1</td>\n",
       "    </tr>\n",
       "  </tbody>\n",
       "</table>\n",
       "<p>2976 rows × 6401 columns</p>\n",
       "</div>"
      ],
      "text/plain": [
       "        0    1    2    3    4    5    6    7    8    9  ...  6391  6392  6393  \\\n",
       "1272  117   84   71   67   63   64   79   92   95   92  ...   101   103   102   \n",
       "1155    0    0    0    0    0    0    0    0    0    6  ...   -57   -71   -91   \n",
       "811    16   53   76   91  105  112  113  111 -112 -105  ...    51     7     0   \n",
       "70      0    0    0    0    3   15   27   37   49   58  ...     0     0     0   \n",
       "551    27   64  109  101  101  107  106  100   85   54  ...  -114  -120   124   \n",
       "...   ...  ...  ...  ...  ...  ...  ...  ...  ...  ...  ...   ...   ...   ...   \n",
       "1146    9    9    9    9    9   10   11   13   14   14  ...    62    34     8   \n",
       "1259   11   40   67   86   97   99   97  105 -128 -119  ...   116    79    50   \n",
       "164    80  104 -119  120  105  110  105  108 -126 -125  ...    13     3     2   \n",
       "399    49   78   98  113  121  127 -125 -116  -94  -99  ...  -115  -122   104   \n",
       "1254   12   12   11   15  102   42   18   22   22   77  ...    11    11    12   \n",
       "\n",
       "      6394  6395  6396  6397  6398  6399  target  \n",
       "1272    85    62    39    21     7     0       1  \n",
       "1155  -101  -123  -124   126    55     5       0  \n",
       "811      0     0     0     0     0     0       0  \n",
       "70       0     0     0     0     0     0       0  \n",
       "551    122  -118  -123   102    52     5       0  \n",
       "...    ...   ...   ...   ...   ...   ...     ...  \n",
       "1146     3     4     3     2     2     2       0  \n",
       "1259    14     0     0     0     0     0       0  \n",
       "164      3     4     5     9     4     3       1  \n",
       "399     46     9    16    20    24    26       0  \n",
       "1254    12    13    13    14    14    14       1  \n",
       "\n",
       "[2976 rows x 6401 columns]"
      ]
     },
     "execution_count": 5,
     "metadata": {},
     "output_type": "execute_result"
    }
   ],
   "source": [
    "train_data"
   ]
  },
  {
   "cell_type": "code",
   "execution_count": 6,
   "id": "d3fa9477",
   "metadata": {},
   "outputs": [
    {
     "data": {
      "text/html": [
       "<div>\n",
       "<style scoped>\n",
       "    .dataframe tbody tr th:only-of-type {\n",
       "        vertical-align: middle;\n",
       "    }\n",
       "\n",
       "    .dataframe tbody tr th {\n",
       "        vertical-align: top;\n",
       "    }\n",
       "\n",
       "    .dataframe thead th {\n",
       "        text-align: right;\n",
       "    }\n",
       "</style>\n",
       "<table border=\"1\" class=\"dataframe\">\n",
       "  <thead>\n",
       "    <tr style=\"text-align: right;\">\n",
       "      <th></th>\n",
       "      <th>0</th>\n",
       "      <th>1</th>\n",
       "      <th>2</th>\n",
       "      <th>3</th>\n",
       "      <th>4</th>\n",
       "      <th>5</th>\n",
       "      <th>6</th>\n",
       "      <th>7</th>\n",
       "      <th>8</th>\n",
       "      <th>9</th>\n",
       "      <th>...</th>\n",
       "      <th>6391</th>\n",
       "      <th>6392</th>\n",
       "      <th>6393</th>\n",
       "      <th>6394</th>\n",
       "      <th>6395</th>\n",
       "      <th>6396</th>\n",
       "      <th>6397</th>\n",
       "      <th>6398</th>\n",
       "      <th>6399</th>\n",
       "      <th>target</th>\n",
       "    </tr>\n",
       "  </thead>\n",
       "  <tbody>\n",
       "    <tr>\n",
       "      <th>157</th>\n",
       "      <td>-122</td>\n",
       "      <td>-122</td>\n",
       "      <td>-122</td>\n",
       "      <td>-122</td>\n",
       "      <td>-122</td>\n",
       "      <td>-121</td>\n",
       "      <td>-119</td>\n",
       "      <td>-113</td>\n",
       "      <td>-107</td>\n",
       "      <td>-105</td>\n",
       "      <td>...</td>\n",
       "      <td>-128</td>\n",
       "      <td>75</td>\n",
       "      <td>22</td>\n",
       "      <td>4</td>\n",
       "      <td>4</td>\n",
       "      <td>2</td>\n",
       "      <td>1</td>\n",
       "      <td>0</td>\n",
       "      <td>0</td>\n",
       "      <td>0</td>\n",
       "    </tr>\n",
       "    <tr>\n",
       "      <th>17</th>\n",
       "      <td>11</td>\n",
       "      <td>11</td>\n",
       "      <td>13</td>\n",
       "      <td>15</td>\n",
       "      <td>14</td>\n",
       "      <td>11</td>\n",
       "      <td>10</td>\n",
       "      <td>10</td>\n",
       "      <td>11</td>\n",
       "      <td>12</td>\n",
       "      <td>...</td>\n",
       "      <td>-107</td>\n",
       "      <td>126</td>\n",
       "      <td>102</td>\n",
       "      <td>70</td>\n",
       "      <td>33</td>\n",
       "      <td>9</td>\n",
       "      <td>13</td>\n",
       "      <td>18</td>\n",
       "      <td>19</td>\n",
       "      <td>0</td>\n",
       "    </tr>\n",
       "    <tr>\n",
       "      <th>279</th>\n",
       "      <td>23</td>\n",
       "      <td>26</td>\n",
       "      <td>27</td>\n",
       "      <td>27</td>\n",
       "      <td>25</td>\n",
       "      <td>23</td>\n",
       "      <td>18</td>\n",
       "      <td>14</td>\n",
       "      <td>12</td>\n",
       "      <td>38</td>\n",
       "      <td>...</td>\n",
       "      <td>29</td>\n",
       "      <td>3</td>\n",
       "      <td>8</td>\n",
       "      <td>11</td>\n",
       "      <td>13</td>\n",
       "      <td>12</td>\n",
       "      <td>14</td>\n",
       "      <td>22</td>\n",
       "      <td>42</td>\n",
       "      <td>1</td>\n",
       "    </tr>\n",
       "    <tr>\n",
       "      <th>252</th>\n",
       "      <td>-56</td>\n",
       "      <td>57</td>\n",
       "      <td>28</td>\n",
       "      <td>35</td>\n",
       "      <td>40</td>\n",
       "      <td>46</td>\n",
       "      <td>54</td>\n",
       "      <td>60</td>\n",
       "      <td>59</td>\n",
       "      <td>59</td>\n",
       "      <td>...</td>\n",
       "      <td>14</td>\n",
       "      <td>11</td>\n",
       "      <td>16</td>\n",
       "      <td>18</td>\n",
       "      <td>18</td>\n",
       "      <td>14</td>\n",
       "      <td>107</td>\n",
       "      <td>57</td>\n",
       "      <td>15</td>\n",
       "      <td>1</td>\n",
       "    </tr>\n",
       "    <tr>\n",
       "      <th>69</th>\n",
       "      <td>0</td>\n",
       "      <td>2</td>\n",
       "      <td>11</td>\n",
       "      <td>21</td>\n",
       "      <td>23</td>\n",
       "      <td>24</td>\n",
       "      <td>24</td>\n",
       "      <td>23</td>\n",
       "      <td>23</td>\n",
       "      <td>24</td>\n",
       "      <td>...</td>\n",
       "      <td>-78</td>\n",
       "      <td>-101</td>\n",
       "      <td>-125</td>\n",
       "      <td>95</td>\n",
       "      <td>53</td>\n",
       "      <td>21</td>\n",
       "      <td>11</td>\n",
       "      <td>2</td>\n",
       "      <td>0</td>\n",
       "      <td>0</td>\n",
       "    </tr>\n",
       "    <tr>\n",
       "      <th>...</th>\n",
       "      <td>...</td>\n",
       "      <td>...</td>\n",
       "      <td>...</td>\n",
       "      <td>...</td>\n",
       "      <td>...</td>\n",
       "      <td>...</td>\n",
       "      <td>...</td>\n",
       "      <td>...</td>\n",
       "      <td>...</td>\n",
       "      <td>...</td>\n",
       "      <td>...</td>\n",
       "      <td>...</td>\n",
       "      <td>...</td>\n",
       "      <td>...</td>\n",
       "      <td>...</td>\n",
       "      <td>...</td>\n",
       "      <td>...</td>\n",
       "      <td>...</td>\n",
       "      <td>...</td>\n",
       "      <td>...</td>\n",
       "      <td>...</td>\n",
       "    </tr>\n",
       "    <tr>\n",
       "      <th>16</th>\n",
       "      <td>86</td>\n",
       "      <td>87</td>\n",
       "      <td>88</td>\n",
       "      <td>90</td>\n",
       "      <td>89</td>\n",
       "      <td>88</td>\n",
       "      <td>85</td>\n",
       "      <td>82</td>\n",
       "      <td>78</td>\n",
       "      <td>76</td>\n",
       "      <td>...</td>\n",
       "      <td>91</td>\n",
       "      <td>87</td>\n",
       "      <td>82</td>\n",
       "      <td>66</td>\n",
       "      <td>42</td>\n",
       "      <td>23</td>\n",
       "      <td>12</td>\n",
       "      <td>2</td>\n",
       "      <td>0</td>\n",
       "      <td>0</td>\n",
       "    </tr>\n",
       "    <tr>\n",
       "      <th>58</th>\n",
       "      <td>0</td>\n",
       "      <td>5</td>\n",
       "      <td>23</td>\n",
       "      <td>43</td>\n",
       "      <td>61</td>\n",
       "      <td>80</td>\n",
       "      <td>93</td>\n",
       "      <td>95</td>\n",
       "      <td>97</td>\n",
       "      <td>109</td>\n",
       "      <td>...</td>\n",
       "      <td>68</td>\n",
       "      <td>38</td>\n",
       "      <td>9</td>\n",
       "      <td>2</td>\n",
       "      <td>4</td>\n",
       "      <td>6</td>\n",
       "      <td>8</td>\n",
       "      <td>9</td>\n",
       "      <td>10</td>\n",
       "      <td>0</td>\n",
       "    </tr>\n",
       "    <tr>\n",
       "      <th>43</th>\n",
       "      <td>85</td>\n",
       "      <td>-102</td>\n",
       "      <td>91</td>\n",
       "      <td>83</td>\n",
       "      <td>-118</td>\n",
       "      <td>-119</td>\n",
       "      <td>-81</td>\n",
       "      <td>88</td>\n",
       "      <td>58</td>\n",
       "      <td>66</td>\n",
       "      <td>...</td>\n",
       "      <td>61</td>\n",
       "      <td>57</td>\n",
       "      <td>30</td>\n",
       "      <td>5</td>\n",
       "      <td>14</td>\n",
       "      <td>17</td>\n",
       "      <td>18</td>\n",
       "      <td>18</td>\n",
       "      <td>18</td>\n",
       "      <td>1</td>\n",
       "    </tr>\n",
       "    <tr>\n",
       "      <th>21</th>\n",
       "      <td>-39</td>\n",
       "      <td>-41</td>\n",
       "      <td>-32</td>\n",
       "      <td>-41</td>\n",
       "      <td>-60</td>\n",
       "      <td>59</td>\n",
       "      <td>4</td>\n",
       "      <td>11</td>\n",
       "      <td>12</td>\n",
       "      <td>12</td>\n",
       "      <td>...</td>\n",
       "      <td>13</td>\n",
       "      <td>14</td>\n",
       "      <td>14</td>\n",
       "      <td>16</td>\n",
       "      <td>16</td>\n",
       "      <td>16</td>\n",
       "      <td>16</td>\n",
       "      <td>16</td>\n",
       "      <td>17</td>\n",
       "      <td>1</td>\n",
       "    </tr>\n",
       "    <tr>\n",
       "      <th>86</th>\n",
       "      <td>-35</td>\n",
       "      <td>-46</td>\n",
       "      <td>-60</td>\n",
       "      <td>-84</td>\n",
       "      <td>-103</td>\n",
       "      <td>-107</td>\n",
       "      <td>-108</td>\n",
       "      <td>-128</td>\n",
       "      <td>-116</td>\n",
       "      <td>118</td>\n",
       "      <td>...</td>\n",
       "      <td>15</td>\n",
       "      <td>20</td>\n",
       "      <td>23</td>\n",
       "      <td>24</td>\n",
       "      <td>25</td>\n",
       "      <td>25</td>\n",
       "      <td>23</td>\n",
       "      <td>54</td>\n",
       "      <td>82</td>\n",
       "      <td>1</td>\n",
       "    </tr>\n",
       "  </tbody>\n",
       "</table>\n",
       "<p>523 rows × 6401 columns</p>\n",
       "</div>"
      ],
      "text/plain": [
       "       0    1    2    3    4    5    6    7    8    9  ...  6391  6392  6393  \\\n",
       "157 -122 -122 -122 -122 -122 -121 -119 -113 -107 -105  ...  -128    75    22   \n",
       "17    11   11   13   15   14   11   10   10   11   12  ...  -107   126   102   \n",
       "279   23   26   27   27   25   23   18   14   12   38  ...    29     3     8   \n",
       "252  -56   57   28   35   40   46   54   60   59   59  ...    14    11    16   \n",
       "69     0    2   11   21   23   24   24   23   23   24  ...   -78  -101  -125   \n",
       "..   ...  ...  ...  ...  ...  ...  ...  ...  ...  ...  ...   ...   ...   ...   \n",
       "16    86   87   88   90   89   88   85   82   78   76  ...    91    87    82   \n",
       "58     0    5   23   43   61   80   93   95   97  109  ...    68    38     9   \n",
       "43    85 -102   91   83 -118 -119  -81   88   58   66  ...    61    57    30   \n",
       "21   -39  -41  -32  -41  -60   59    4   11   12   12  ...    13    14    14   \n",
       "86   -35  -46  -60  -84 -103 -107 -108 -128 -116  118  ...    15    20    23   \n",
       "\n",
       "     6394  6395  6396  6397  6398  6399  target  \n",
       "157     4     4     2     1     0     0       0  \n",
       "17     70    33     9    13    18    19       0  \n",
       "279    11    13    12    14    22    42       1  \n",
       "252    18    18    14   107    57    15       1  \n",
       "69     95    53    21    11     2     0       0  \n",
       "..    ...   ...   ...   ...   ...   ...     ...  \n",
       "16     66    42    23    12     2     0       0  \n",
       "58      2     4     6     8     9    10       0  \n",
       "43      5    14    17    18    18    18       1  \n",
       "21     16    16    16    16    16    17       1  \n",
       "86     24    25    25    23    54    82       1  \n",
       "\n",
       "[523 rows x 6401 columns]"
      ]
     },
     "execution_count": 6,
     "metadata": {},
     "output_type": "execute_result"
    }
   ],
   "source": [
    "test_data"
   ]
  },
  {
   "cell_type": "code",
   "execution_count": 7,
   "id": "7986919e",
   "metadata": {},
   "outputs": [],
   "source": [
    "# importing the necessary libraries\n",
    "\n",
    "from sklearn.model_selection import train_test_split\n",
    "from sklearn.metrics import classification_report,confusion_matrix\n",
    "from sklearn.linear_model import LogisticRegression\n",
    "import seaborn as sns\n",
    "import numpy as np "
   ]
  },
  {
   "cell_type": "code",
   "execution_count": 8,
   "id": "ab1254a0",
   "metadata": {},
   "outputs": [],
   "source": [
    "# using train_test_split splitting the dataset for model building \n",
    "\n",
    "X = train_data.drop('target',axis=1)\n",
    "y = train_data['target']\n",
    "X_train, X_val, y_train, y_val = train_test_split(X, y, test_size=0.3, random_state=50)"
   ]
  },
  {
   "cell_type": "markdown",
   "id": "18cf3006",
   "metadata": {},
   "source": [
    "**LOGISTIC REGRESSION MODEL**"
   ]
  },
  {
   "cell_type": "code",
   "execution_count": 9,
   "id": "f748417d",
   "metadata": {},
   "outputs": [],
   "source": [
    "logistic_model = LogisticRegression()\n",
    "\n",
    "logistic_model.fit(X_train, y_train)\n",
    "\n",
    "y_val_pred = logistic_model.predict(X_val)"
   ]
  },
  {
   "cell_type": "code",
   "execution_count": 10,
   "id": "a3decb50",
   "metadata": {},
   "outputs": [
    {
     "name": "stdout",
     "output_type": "stream",
     "text": [
      "              precision    recall  f1-score   support\n",
      "\n",
      "           0       0.88      0.89      0.89       430\n",
      "           1       0.90      0.89      0.89       463\n",
      "\n",
      "    accuracy                           0.89       893\n",
      "   macro avg       0.89      0.89      0.89       893\n",
      "weighted avg       0.89      0.89      0.89       893\n",
      "\n",
      "\n",
      "\n",
      "[[382  48]\n",
      " [ 51 412]]\n"
     ]
    }
   ],
   "source": [
    "print(classification_report(y_val,y_val_pred))\n",
    "print('\\n')\n",
    "print(confusion_matrix(y_val,y_val_pred))"
   ]
  },
  {
   "cell_type": "code",
   "execution_count": 12,
   "id": "953094cb",
   "metadata": {},
   "outputs": [],
   "source": [
    "X = test_data.drop('target',axis=1)\n",
    "Y = test_data['target']"
   ]
  },
  {
   "cell_type": "code",
   "execution_count": 13,
   "id": "aaea1557",
   "metadata": {},
   "outputs": [
    {
     "data": {
      "text/plain": [
       "0.8030592734225621"
      ]
     },
     "execution_count": 13,
     "metadata": {},
     "output_type": "execute_result"
    }
   ],
   "source": [
    "# testdata accuracy score on logistic regression model \n",
    "\n",
    "test_score = logistic_model.score(X,Y)\n",
    "test_score"
   ]
  },
  {
   "cell_type": "code",
   "execution_count": 14,
   "id": "a60f4f96",
   "metadata": {},
   "outputs": [],
   "source": [
    "y_test_pred = logistic_model.predict(X)"
   ]
  },
  {
   "cell_type": "code",
   "execution_count": 16,
   "id": "772994a7",
   "metadata": {},
   "outputs": [
    {
     "name": "stdout",
     "output_type": "stream",
     "text": [
      "              precision    recall  f1-score   support\n",
      "\n",
      "           0       0.87      0.66      0.75       234\n",
      "           1       0.77      0.92      0.84       289\n",
      "\n",
      "    accuracy                           0.80       523\n",
      "   macro avg       0.82      0.79      0.79       523\n",
      "weighted avg       0.81      0.80      0.80       523\n",
      "\n",
      "\n",
      "\n",
      "[[155  79]\n",
      " [ 24 265]]\n"
     ]
    }
   ],
   "source": [
    "print(classification_report(Y,y_test_pred))\n",
    "print('\\n')\n",
    "print(confusion_matrix(Y,y_test_pred))"
   ]
  },
  {
   "cell_type": "code",
   "execution_count": 17,
   "id": "c74afd9b",
   "metadata": {},
   "outputs": [
    {
     "data": {
      "text/plain": [
       "<AxesSubplot:>"
      ]
     },
     "execution_count": 17,
     "metadata": {},
     "output_type": "execute_result"
    },
    {
     "data": {
      "image/png": "[encoded data removed]",
      "text/plain": [
       "<Figure size 432x288 with 2 Axes>"
      ]
     },
     "metadata": {
      "needs_background": "light"
     },
     "output_type": "display_data"
    }
   ],
   "source": [
    "# confusion matrix for the logistic regression model on testdata\n",
    "\n",
    "sns.heatmap(confusion_matrix(Y,y_test_pred),annot=True,cmap='Blues',fmt ='g')"
   ]
  },
  {
   "cell_type": "code",
   "execution_count": 20,
   "id": "8eda2830",
   "metadata": {},
   "outputs": [
    {
     "data": {
      "image/png": "[encoded data removed]",
      "text/plain": [
       "<Figure size 1000x800 with 1 Axes>"
      ]
     },
     "metadata": {
      "needs_background": "light"
     },
     "output_type": "display_data"
    }
   ],
   "source": [
    "# AUC-ROC curve for logistic regression model on testdata\n",
    "\n",
    "import matplotlib.pyplot as plt\n",
    "from sklearn import metrics\n",
    "auc = metrics.roc_auc_score(Y,y_test_pred)\n",
    "false_positive_rate, true_positive_rate, thresolds = metrics.roc_curve(Y,y_test_pred)\n",
    "plt.figure(figsize=(10, 8), dpi=100)\n",
    "plt.axis('scaled')\n",
    "plt.xlim([0, 1])\n",
    "plt.ylim([0, 1])\n",
    "plt.title(\"AUC & ROC Curve\")\n",
    "plt.plot(false_positive_rate, true_positive_rate, 'g')\n",
    "plt.fill_between(false_positive_rate, true_positive_rate, facecolor='lightgreen', alpha=0.7)\n",
    "plt.text(0.95, 0.05, 'AUC = %0.4f' % auc, ha='right', fontsize=12, weight='bold', color='blue')\n",
    "plt.xlabel(\"False Positive Rate\")\n",
    "plt.ylabel(\"True Positive Rate\")\n",
    "plt.show()"
   ]
  },
  {
   "cell_type": "markdown",
   "id": "13f998ea",
   "metadata": {},
   "source": [
    "**applying cross validation for the logistic regression model on train data**"
   ]
  },
  {
   "cell_type": "code",
   "execution_count": 21,
   "id": "776a0d43",
   "metadata": {},
   "outputs": [
    {
     "name": "stdout",
     "output_type": "stream",
     "text": [
      "Cross-Validation Accuracy Scores [0.88038278 0.88995215 0.8708134  0.86057692 0.87980769 0.88942308\n",
      " 0.86057692 0.87980769 0.86538462 0.875     ]\n"
     ]
    }
   ],
   "source": [
    "from sklearn.model_selection import cross_val_score\n",
    "\n",
    "scores = cross_val_score(logistic_model, X_train, y_train, cv=10)\n",
    "print('Cross-Validation Accuracy Scores', scores)"
   ]
  },
  {
   "cell_type": "code",
   "execution_count": 22,
   "id": "8c9b83db",
   "metadata": {},
   "outputs": [
    {
     "data": {
      "image/png": "[encoded data removed]",
      "text/plain": [
       "<Figure size 432x288 with 1 Axes>"
      ]
     },
     "metadata": {
      "needs_background": "light"
     },
     "output_type": "display_data"
    }
   ],
   "source": [
    "ax = sns.lineplot(data=scores)\n",
    "ax.set(xlabel='cv value', ylabel='accuracy')\n",
    "plt.show()"
   ]
  },
  {
   "cell_type": "code",
   "execution_count": 23,
   "id": "6f405b72",
   "metadata": {},
   "outputs": [
    {
     "name": "stdout",
     "output_type": "stream",
     "text": [
      "Accuracy of Model with Cross Validation is: 87.51725248435775\n"
     ]
    }
   ],
   "source": [
    "print(\"Accuracy of Model with Cross Validation is:\",scores .mean() * 100)"
   ]
  },
  {
   "cell_type": "raw",
   "id": "e2b86b56",
   "metadata": {},
   "source": [
    "applying cross validation the best accuracy produced was 87.51 :)"
   ]
  },
  {
   "cell_type": "markdown",
   "id": "0cd5dade",
   "metadata": {},
   "source": [
    "**k-NEAREST NEIGHBOURS MODEL**"
   ]
  },
  {
   "cell_type": "code",
   "execution_count": 24,
   "id": "9ff33835",
   "metadata": {},
   "outputs": [],
   "source": [
    "from sklearn.neighbors import KNeighborsClassifier as knn"
   ]
  },
  {
   "cell_type": "code",
   "execution_count": 25,
   "id": "834cecfb",
   "metadata": {},
   "outputs": [
    {
     "data": {
      "text/plain": [
       "KNeighborsClassifier(n_neighbors=2)"
      ]
     },
     "execution_count": 25,
     "metadata": {},
     "output_type": "execute_result"
    }
   ],
   "source": [
    "neigh = knn(n_neighbors = 2)\n",
    "neigh.fit(X_train,y_train)"
   ]
  },
  {
   "cell_type": "code",
   "execution_count": 26,
   "id": "80c22682",
   "metadata": {},
   "outputs": [
    {
     "data": {
      "text/plain": [
       "0.9328107502799552"
      ]
     },
     "execution_count": 26,
     "metadata": {},
     "output_type": "execute_result"
    }
   ],
   "source": [
    "# calculating the train accuracy on knn\n",
    "\n",
    "neigh = knn(n_neighbors = 2)\n",
    "neigh.fit(X_val,y_val)\n",
    "neigh.score(X_val,y_val)"
   ]
  },
  {
   "cell_type": "code",
   "execution_count": 27,
   "id": "0153e601",
   "metadata": {},
   "outputs": [
    {
     "data": {
      "text/plain": [
       "0.9063097514340345"
      ]
     },
     "execution_count": 27,
     "metadata": {},
     "output_type": "execute_result"
    }
   ],
   "source": [
    "# calculating the test accuracy on knn\n",
    "\n",
    "neigh = knn(n_neighbors = 2)\n",
    "neigh.fit(X,Y)\n",
    "neigh.score(X,Y)"
   ]
  },
  {
   "cell_type": "code",
   "execution_count": 28,
   "id": "8188d11d",
   "metadata": {},
   "outputs": [],
   "source": [
    "ky_test_pred = neigh.predict(X)"
   ]
  },
  {
   "cell_type": "code",
   "execution_count": 29,
   "id": "b6716e00",
   "metadata": {},
   "outputs": [
    {
     "name": "stdout",
     "output_type": "stream",
     "text": [
      "              precision    recall  f1-score   support\n",
      "\n",
      "           0       0.83      1.00      0.91       234\n",
      "           1       1.00      0.83      0.91       289\n",
      "\n",
      "    accuracy                           0.91       523\n",
      "   macro avg       0.91      0.92      0.91       523\n",
      "weighted avg       0.92      0.91      0.91       523\n",
      "\n",
      "\n",
      "\n",
      "[[234   0]\n",
      " [ 49 240]]\n"
     ]
    }
   ],
   "source": [
    "print(classification_report(Y,ky_test_pred))\n",
    "print('\\n')\n",
    "print(confusion_matrix(Y,ky_test_pred))"
   ]
  },
  {
   "cell_type": "code",
   "execution_count": 30,
   "id": "68aa85f6",
   "metadata": {},
   "outputs": [
    {
     "data": {
      "text/plain": [
       "<AxesSubplot:>"
      ]
     },
     "execution_count": 30,
     "metadata": {},
     "output_type": "execute_result"
    },
    {
     "data": {
      "image/png": "[encoded data removed]",
      "text/plain": [
       "<Figure size 432x288 with 2 Axes>"
      ]
     },
     "metadata": {
      "needs_background": "light"
     },
     "output_type": "display_data"
    }
   ],
   "source": [
    "# confusion matrix for the k-nearest neighbours model on testdata\n",
    "\n",
    "sns.heatmap(confusion_matrix(Y,ky_test_pred),annot=True,cmap='Blues',fmt ='g')"
   ]
  },
  {
   "cell_type": "markdown",
   "id": "d2911db1",
   "metadata": {},
   "source": [
    "**both logistic regression and knn performed well on bith train as well as test data , but knn produced high accuracy of all**"
   ]
  },
  {
   "cell_type": "code",
   "execution_count": null,
   "id": "cfafcbdb",
   "metadata": {},
   "outputs": [],
   "source": []
  }
 ],
 "metadata": {
  "kernelspec": {
   "display_name": "Python 3 (ipykernel)",
   "language": "python",
   "name": "python3"
  },
  "language_info": {
   "codemirror_mode": {
    "name": "ipython",
    "version": 3
   },
   "file_extension": ".py",
   "mimetype": "text/x-python",
   "name": "python",
   "nbconvert_exporter": "python",
   "pygments_lexer": "ipython3",
   "version": "3.8.12"
  }
 },
 "nbformat": 4,
 "nbformat_minor": 5
}
