{
 "cells": [
  {
   "cell_type": "markdown",
   "id": "08648504",
   "metadata": {},
   "source": [
    "## CANCER SURVIVAL PREDICTION USING GENE DATA "
   ]
  },
  {
   "cell_type": "code",
   "execution_count": 1,
   "id": "f0e736c5",
   "metadata": {},
   "outputs": [],
   "source": [
    "#importing the necessary libraries\n",
    "\n",
    "import pandas as pd \n",
    "import numpy as np \n",
    "import matplotlib.pyplot as plt \n",
    "import seaborn as sns\n",
    "from sklearn.linear_model import LogisticRegression \n",
    "from sklearn.metrics import classification_report, confusion_matrix\n",
    "from sklearn.preprocessing import MinMaxScaler, StandardScaler\n",
    "from sklearn.model_selection import train_test_split\n",
    "from imblearn.over_sampling import SMOTE\n",
    "from sklearn.tree import DecisionTreeClassifier\n",
    "from sklearn.metrics import classification_report, confusion_matrix\n",
    "from sklearn.naive_bayes import GaussianNB\n",
    "from sklearn.neighbors import KNeighborsClassifier\n",
    "from sklearn.ensemble import BaggingClassifier\n",
    "from sklearn.ensemble import RandomForestClassifier"
   ]
  },
  {
   "cell_type": "code",
   "execution_count": 2,
   "id": "b8cd6791",
   "metadata": {},
   "outputs": [
    {
     "name": "stderr",
     "output_type": "stream",
     "text": [
      "C:\\Users\\Lekhashree\\anaconda3\\envs\\new - tensorflow\\lib\\site-packages\\IPython\\core\\interactiveshell.py:3441: DtypeWarning: Columns (678,688,690,692) have mixed types.Specify dtype option on import or set low_memory=False.\n",
      "  exec(code_obj, self.user_global_ns, self.user_ns)\n"
     ]
    }
   ],
   "source": [
    "# loading the dataset using pandas library \n",
    "\n",
    "dataset = pd.read_csv(\"D:\\\\AIML SEM 5\\\\METABRIC_RNA_Mutation.csv\")"
   ]
  },
  {
   "cell_type": "code",
   "execution_count": 3,
   "id": "471c131d",
   "metadata": {},
   "outputs": [
    {
     "data": {
      "text/html": [
       "<div>\n",
       "<style scoped>\n",
       "    .dataframe tbody tr th:only-of-type {\n",
       "        vertical-align: middle;\n",
       "    }\n",
       "\n",
       "    .dataframe tbody tr th {\n",
       "        vertical-align: top;\n",
       "    }\n",
       "\n",
       "    .dataframe thead th {\n",
       "        text-align: right;\n",
       "    }\n",
       "</style>\n",
       "<table border=\"1\" class=\"dataframe\">\n",
       "  <thead>\n",
       "    <tr style=\"text-align: right;\">\n",
       "      <th></th>\n",
       "      <th>patient_id</th>\n",
       "      <th>age_at_diagnosis</th>\n",
       "      <th>type_of_breast_surgery</th>\n",
       "      <th>cancer_type</th>\n",
       "      <th>cancer_type_detailed</th>\n",
       "      <th>cellularity</th>\n",
       "      <th>chemotherapy</th>\n",
       "      <th>pam50_+_claudin-low_subtype</th>\n",
       "      <th>cohort</th>\n",
       "      <th>er_status_measured_by_ihc</th>\n",
       "      <th>...</th>\n",
       "      <th>mtap_mut</th>\n",
       "      <th>ppp2cb_mut</th>\n",
       "      <th>smarcd1_mut</th>\n",
       "      <th>nras_mut</th>\n",
       "      <th>ndfip1_mut</th>\n",
       "      <th>hras_mut</th>\n",
       "      <th>prps2_mut</th>\n",
       "      <th>smarcb1_mut</th>\n",
       "      <th>stmn2_mut</th>\n",
       "      <th>siah1_mut</th>\n",
       "    </tr>\n",
       "  </thead>\n",
       "  <tbody>\n",
       "    <tr>\n",
       "      <th>0</th>\n",
       "      <td>0</td>\n",
       "      <td>75.65</td>\n",
       "      <td>MASTECTOMY</td>\n",
       "      <td>Breast Cancer</td>\n",
       "      <td>Breast Invasive Ductal Carcinoma</td>\n",
       "      <td>NaN</td>\n",
       "      <td>0</td>\n",
       "      <td>claudin-low</td>\n",
       "      <td>1.0</td>\n",
       "      <td>Positve</td>\n",
       "      <td>...</td>\n",
       "      <td>0</td>\n",
       "      <td>0</td>\n",
       "      <td>0</td>\n",
       "      <td>0</td>\n",
       "      <td>0</td>\n",
       "      <td>0</td>\n",
       "      <td>0</td>\n",
       "      <td>0</td>\n",
       "      <td>0</td>\n",
       "      <td>0</td>\n",
       "    </tr>\n",
       "    <tr>\n",
       "      <th>1</th>\n",
       "      <td>2</td>\n",
       "      <td>43.19</td>\n",
       "      <td>BREAST CONSERVING</td>\n",
       "      <td>Breast Cancer</td>\n",
       "      <td>Breast Invasive Ductal Carcinoma</td>\n",
       "      <td>High</td>\n",
       "      <td>0</td>\n",
       "      <td>LumA</td>\n",
       "      <td>1.0</td>\n",
       "      <td>Positve</td>\n",
       "      <td>...</td>\n",
       "      <td>0</td>\n",
       "      <td>0</td>\n",
       "      <td>0</td>\n",
       "      <td>0</td>\n",
       "      <td>0</td>\n",
       "      <td>0</td>\n",
       "      <td>0</td>\n",
       "      <td>0</td>\n",
       "      <td>0</td>\n",
       "      <td>0</td>\n",
       "    </tr>\n",
       "    <tr>\n",
       "      <th>2</th>\n",
       "      <td>5</td>\n",
       "      <td>48.87</td>\n",
       "      <td>MASTECTOMY</td>\n",
       "      <td>Breast Cancer</td>\n",
       "      <td>Breast Invasive Ductal Carcinoma</td>\n",
       "      <td>High</td>\n",
       "      <td>1</td>\n",
       "      <td>LumB</td>\n",
       "      <td>1.0</td>\n",
       "      <td>Positve</td>\n",
       "      <td>...</td>\n",
       "      <td>0</td>\n",
       "      <td>0</td>\n",
       "      <td>0</td>\n",
       "      <td>0</td>\n",
       "      <td>0</td>\n",
       "      <td>0</td>\n",
       "      <td>0</td>\n",
       "      <td>0</td>\n",
       "      <td>0</td>\n",
       "      <td>0</td>\n",
       "    </tr>\n",
       "    <tr>\n",
       "      <th>3</th>\n",
       "      <td>6</td>\n",
       "      <td>47.68</td>\n",
       "      <td>MASTECTOMY</td>\n",
       "      <td>Breast Cancer</td>\n",
       "      <td>Breast Mixed Ductal and Lobular Carcinoma</td>\n",
       "      <td>Moderate</td>\n",
       "      <td>1</td>\n",
       "      <td>LumB</td>\n",
       "      <td>1.0</td>\n",
       "      <td>Positve</td>\n",
       "      <td>...</td>\n",
       "      <td>0</td>\n",
       "      <td>0</td>\n",
       "      <td>0</td>\n",
       "      <td>0</td>\n",
       "      <td>0</td>\n",
       "      <td>0</td>\n",
       "      <td>0</td>\n",
       "      <td>0</td>\n",
       "      <td>0</td>\n",
       "      <td>0</td>\n",
       "    </tr>\n",
       "    <tr>\n",
       "      <th>4</th>\n",
       "      <td>8</td>\n",
       "      <td>76.97</td>\n",
       "      <td>MASTECTOMY</td>\n",
       "      <td>Breast Cancer</td>\n",
       "      <td>Breast Mixed Ductal and Lobular Carcinoma</td>\n",
       "      <td>High</td>\n",
       "      <td>1</td>\n",
       "      <td>LumB</td>\n",
       "      <td>1.0</td>\n",
       "      <td>Positve</td>\n",
       "      <td>...</td>\n",
       "      <td>0</td>\n",
       "      <td>0</td>\n",
       "      <td>0</td>\n",
       "      <td>0</td>\n",
       "      <td>0</td>\n",
       "      <td>0</td>\n",
       "      <td>0</td>\n",
       "      <td>0</td>\n",
       "      <td>0</td>\n",
       "      <td>0</td>\n",
       "    </tr>\n",
       "  </tbody>\n",
       "</table>\n",
       "<p>5 rows × 693 columns</p>\n",
       "</div>"
      ],
      "text/plain": [
       "   patient_id  age_at_diagnosis type_of_breast_surgery    cancer_type  \\\n",
       "0           0             75.65             MASTECTOMY  Breast Cancer   \n",
       "1           2             43.19      BREAST CONSERVING  Breast Cancer   \n",
       "2           5             48.87             MASTECTOMY  Breast Cancer   \n",
       "3           6             47.68             MASTECTOMY  Breast Cancer   \n",
       "4           8             76.97             MASTECTOMY  Breast Cancer   \n",
       "\n",
       "                        cancer_type_detailed cellularity  chemotherapy  \\\n",
       "0           Breast Invasive Ductal Carcinoma         NaN             0   \n",
       "1           Breast Invasive Ductal Carcinoma        High             0   \n",
       "2           Breast Invasive Ductal Carcinoma        High             1   \n",
       "3  Breast Mixed Ductal and Lobular Carcinoma    Moderate             1   \n",
       "4  Breast Mixed Ductal and Lobular Carcinoma        High             1   \n",
       "\n",
       "  pam50_+_claudin-low_subtype  cohort er_status_measured_by_ihc  ... mtap_mut  \\\n",
       "0                 claudin-low     1.0                   Positve  ...        0   \n",
       "1                        LumA     1.0                   Positve  ...        0   \n",
       "2                        LumB     1.0                   Positve  ...        0   \n",
       "3                        LumB     1.0                   Positve  ...        0   \n",
       "4                        LumB     1.0                   Positve  ...        0   \n",
       "\n",
       "   ppp2cb_mut smarcd1_mut nras_mut ndfip1_mut  hras_mut prps2_mut smarcb1_mut  \\\n",
       "0           0           0        0          0         0         0           0   \n",
       "1           0           0        0          0         0         0           0   \n",
       "2           0           0        0          0         0         0           0   \n",
       "3           0           0        0          0         0         0           0   \n",
       "4           0           0        0          0         0         0           0   \n",
       "\n",
       "  stmn2_mut  siah1_mut  \n",
       "0         0          0  \n",
       "1         0          0  \n",
       "2         0          0  \n",
       "3         0          0  \n",
       "4         0          0  \n",
       "\n",
       "[5 rows x 693 columns]"
      ]
     },
     "execution_count": 3,
     "metadata": {},
     "output_type": "execute_result"
    }
   ],
   "source": [
    "# printing the first 5 rows of the dataset\n",
    "\n",
    "dataset.head()\n",
    "# we have 693 features for the given dataset"
   ]
  },
  {
   "cell_type": "code",
   "execution_count": 4,
   "id": "3b3d4edc",
   "metadata": {},
   "outputs": [
    {
     "data": {
      "text/plain": [
       "(1904, 693)"
      ]
     },
     "execution_count": 4,
     "metadata": {},
     "output_type": "execute_result"
    }
   ],
   "source": [
    "# finding the shape of the data to find the length of the dataset \n",
    "\n",
    "dataset.shape\n",
    "# we have 1904 rows of data"
   ]
  },
  {
   "cell_type": "code",
   "execution_count": 5,
   "id": "a9c40434",
   "metadata": {},
   "outputs": [
    {
     "name": "stdout",
     "output_type": "stream",
     "text": [
      "patient_id - int64\n",
      "age_at_diagnosis - float64\n",
      "type_of_breast_surgery - object\n",
      "cancer_type - object\n",
      "cancer_type_detailed - object\n",
      "cellularity - object\n",
      "chemotherapy - int64\n",
      "pam50_+_claudin-low_subtype - object\n",
      "cohort - float64\n",
      "er_status_measured_by_ihc - object\n",
      "er_status - object\n",
      "neoplasm_histologic_grade - float64\n",
      "her2_status_measured_by_snp6 - object\n",
      "her2_status - object\n",
      "tumor_other_histologic_subtype - object\n",
      "hormone_therapy - int64\n",
      "inferred_menopausal_state - object\n",
      "integrative_cluster - object\n",
      "primary_tumor_laterality - object\n",
      "lymph_nodes_examined_positive - float64\n",
      "mutation_count - float64\n",
      "nottingham_prognostic_index - float64\n",
      "oncotree_code - object\n",
      "overall_survival_months - float64\n",
      "overall_survival - int64\n",
      "pr_status - object\n",
      "radio_therapy - int64\n",
      "3-gene_classifier_subtype - object\n",
      "tumor_size - float64\n",
      "tumor_stage - float64\n",
      "death_from_cancer - object\n",
      "brca1 - float64\n",
      "brca2 - float64\n",
      "palb2 - float64\n",
      "pten - float64\n",
      "tp53 - float64\n",
      "atm - float64\n",
      "cdh1 - float64\n",
      "chek2 - float64\n",
      "nbn - float64\n",
      "nf1 - float64\n",
      "stk11 - float64\n",
      "bard1 - float64\n",
      "mlh1 - float64\n",
      "msh2 - float64\n",
      "msh6 - float64\n",
      "pms2 - float64\n",
      "epcam - float64\n",
      "rad51c - float64\n",
      "rad51d - float64\n",
      "rad50 - float64\n",
      "rb1 - float64\n",
      "rbl1 - float64\n",
      "rbl2 - float64\n",
      "ccna1 - float64\n",
      "ccnb1 - float64\n",
      "cdk1 - float64\n",
      "ccne1 - float64\n",
      "cdk2 - float64\n",
      "cdc25a - float64\n",
      "ccnd1 - float64\n",
      "cdk4 - float64\n",
      "cdk6 - float64\n",
      "ccnd2 - float64\n",
      "cdkn2a - float64\n",
      "cdkn2b - float64\n",
      "myc - float64\n",
      "cdkn1a - float64\n",
      "cdkn1b - float64\n",
      "e2f1 - float64\n",
      "e2f2 - float64\n",
      "e2f3 - float64\n",
      "e2f4 - float64\n",
      "e2f5 - float64\n",
      "e2f6 - float64\n",
      "e2f7 - float64\n",
      "e2f8 - float64\n",
      "src - float64\n",
      "jak1 - float64\n",
      "jak2 - float64\n",
      "stat1 - float64\n",
      "stat2 - float64\n",
      "stat3 - float64\n",
      "stat5a - float64\n",
      "stat5b - float64\n",
      "mdm2 - float64\n",
      "tp53bp1 - float64\n",
      "adam10 - float64\n",
      "adam17 - float64\n",
      "aph1a - float64\n",
      "aph1b - float64\n",
      "arrdc1 - float64\n",
      "cir1 - float64\n",
      "ctbp1 - float64\n",
      "ctbp2 - float64\n",
      "cul1 - float64\n",
      "dll1 - float64\n",
      "dll3 - float64\n",
      "dll4 - float64\n",
      "dtx1 - float64\n",
      "dtx2 - float64\n",
      "dtx3 - float64\n",
      "dtx4 - float64\n",
      "ep300 - float64\n",
      "fbxw7 - float64\n",
      "hdac1 - float64\n",
      "hdac2 - float64\n",
      "hes1 - float64\n",
      "hes5 - float64\n",
      "heyl - float64\n",
      "itch - float64\n",
      "jag1 - float64\n",
      "jag2 - float64\n",
      "kdm5a - float64\n",
      "lfng - float64\n",
      "maml1 - float64\n",
      "maml2 - float64\n",
      "maml3 - float64\n",
      "ncor2 - float64\n",
      "ncstn - float64\n",
      "notch1 - float64\n",
      "notch2 - float64\n",
      "notch3 - float64\n",
      "nrarp - float64\n",
      "numb - float64\n",
      "numbl - float64\n",
      "psen1 - float64\n",
      "psen2 - float64\n",
      "psenen - float64\n",
      "rbpj - float64\n",
      "rbpjl - float64\n",
      "rfng - float64\n",
      "snw1 - float64\n",
      "spen - float64\n",
      "hes2 - float64\n",
      "hes4 - float64\n",
      "hes7 - float64\n",
      "hey1 - float64\n",
      "hey2 - float64\n",
      "acvr1 - float64\n",
      "acvr1b - float64\n",
      "acvr1c - float64\n",
      "acvr2a - float64\n",
      "acvr2b - float64\n",
      "acvrl1 - float64\n",
      "akt1 - float64\n",
      "akt1s1 - float64\n",
      "akt2 - float64\n",
      "apaf1 - float64\n",
      "arl11 - float64\n",
      "atr - float64\n",
      "aurka - float64\n",
      "bad - float64\n",
      "bcl2 - float64\n",
      "bcl2l1 - float64\n",
      "bmp10 - float64\n",
      "bmp15 - float64\n",
      "bmp2 - float64\n",
      "bmp3 - float64\n",
      "bmp4 - float64\n",
      "bmp5 - float64\n",
      "bmp6 - float64\n",
      "bmp7 - float64\n",
      "bmpr1a - float64\n",
      "bmpr1b - float64\n",
      "bmpr2 - float64\n",
      "braf - float64\n",
      "casp10 - float64\n",
      "casp3 - float64\n",
      "casp6 - float64\n",
      "casp7 - float64\n",
      "casp8 - float64\n",
      "casp9 - float64\n",
      "chek1 - float64\n",
      "csf1 - float64\n",
      "csf1r - float64\n",
      "cxcl8 - float64\n",
      "cxcr1 - float64\n",
      "cxcr2 - float64\n",
      "dab2 - float64\n",
      "diras3 - float64\n",
      "dlec1 - float64\n",
      "dph1 - float64\n",
      "egfr - float64\n",
      "eif4e - float64\n",
      "eif4ebp1 - float64\n",
      "eif5a2 - float64\n",
      "erbb2 - float64\n",
      "erbb3 - float64\n",
      "erbb4 - float64\n",
      "fas - float64\n",
      "fgf1 - float64\n",
      "fgfr1 - float64\n",
      "folr1 - float64\n",
      "folr2 - float64\n",
      "folr3 - float64\n",
      "foxo1 - float64\n",
      "foxo3 - float64\n",
      "gdf11 - float64\n",
      "gdf2 - float64\n",
      "gsk3b - float64\n",
      "hif1a - float64\n",
      "hla-g - float64\n",
      "hras - float64\n",
      "igf1 - float64\n",
      "igf1r - float64\n",
      "inha - float64\n",
      "inhba - float64\n",
      "inhbc - float64\n",
      "itgav - float64\n",
      "itgb3 - float64\n",
      "izumo1r - float64\n",
      "kdr - float64\n",
      "kit - float64\n",
      "kras - float64\n",
      "map2k1 - float64\n",
      "map2k2 - float64\n",
      "map2k3 - float64\n",
      "map2k4 - float64\n",
      "map2k5 - float64\n",
      "map3k1 - float64\n",
      "map3k3 - float64\n",
      "map3k4 - float64\n",
      "map3k5 - float64\n",
      "mapk1 - float64\n",
      "mapk12 - float64\n",
      "mapk14 - float64\n",
      "mapk3 - float64\n",
      "mapk4 - float64\n",
      "mapk6 - float64\n",
      "mapk7 - float64\n",
      "mapk8 - float64\n",
      "mapk9 - float64\n",
      "mdc1 - float64\n",
      "mlst8 - float64\n",
      "mmp1 - float64\n",
      "mmp10 - float64\n",
      "mmp11 - float64\n",
      "mmp12 - float64\n",
      "mmp13 - float64\n",
      "mmp14 - float64\n",
      "mmp15 - float64\n",
      "mmp16 - float64\n",
      "mmp17 - float64\n",
      "mmp19 - float64\n",
      "mmp2 - float64\n",
      "mmp21 - float64\n",
      "mmp23b - float64\n",
      "mmp24 - float64\n",
      "mmp25 - float64\n",
      "mmp26 - float64\n",
      "mmp27 - float64\n",
      "mmp28 - float64\n",
      "mmp3 - float64\n",
      "mmp7 - float64\n",
      "mmp9 - float64\n",
      "mtor - float64\n",
      "nfkb1 - float64\n",
      "nfkb2 - float64\n",
      "opcml - float64\n",
      "pdgfa - float64\n",
      "pdgfb - float64\n",
      "pdgfra - float64\n",
      "pdgfrb - float64\n",
      "pdpk1 - float64\n",
      "peg3 - float64\n",
      "pik3ca - float64\n",
      "pik3r1 - float64\n",
      "pik3r2 - float64\n",
      "plagl1 - float64\n",
      "ptk2 - float64\n",
      "rab25 - float64\n",
      "rad51 - float64\n",
      "raf1 - float64\n",
      "rassf1 - float64\n",
      "rheb - float64\n",
      "rictor - float64\n",
      "rps6 - float64\n",
      "rps6ka1 - float64\n",
      "rps6ka2 - float64\n",
      "rps6kb1 - float64\n",
      "rps6kb2 - float64\n",
      "rptor - float64\n",
      "slc19a1 - float64\n",
      "smad1 - float64\n",
      "smad2 - float64\n",
      "smad3 - float64\n",
      "smad4 - float64\n",
      "smad5 - float64\n",
      "smad6 - float64\n",
      "smad7 - float64\n",
      "smad9 - float64\n",
      "sptbn1 - float64\n",
      "terc - float64\n",
      "tert - float64\n",
      "tgfb1 - float64\n",
      "tgfb2 - float64\n",
      "tgfb3 - float64\n",
      "tgfbr1 - float64\n",
      "tgfbr2 - float64\n",
      "tgfbr3 - float64\n",
      "tsc1 - float64\n",
      "tsc2 - float64\n",
      "vegfa - float64\n",
      "vegfb - float64\n",
      "wfdc2 - float64\n",
      "wwox - float64\n",
      "zfyve9 - float64\n",
      "arid1a - float64\n",
      "arid1b - float64\n",
      "cbfb - float64\n",
      "gata3 - float64\n",
      "kmt2c - float64\n",
      "kmt2d - float64\n",
      "myh9 - float64\n",
      "ncor1 - float64\n",
      "pde4dip - float64\n",
      "ptprd - float64\n",
      "ros1 - float64\n",
      "runx1 - float64\n",
      "tbx3 - float64\n",
      "abcb1 - float64\n",
      "abcb11 - float64\n",
      "abcc1 - float64\n",
      "abcc10 - float64\n",
      "bbc3 - float64\n",
      "bmf - float64\n",
      "cyp2c8 - float64\n",
      "cyp3a4 - float64\n",
      "fgf2 - float64\n",
      "fn1 - float64\n",
      "map2 - float64\n",
      "map4 - float64\n",
      "mapt - float64\n",
      "nr1i2 - float64\n",
      "slco1b3 - float64\n",
      "tubb1 - float64\n",
      "tubb4a - float64\n",
      "tubb4b - float64\n",
      "twist1 - float64\n",
      "adgra2 - float64\n",
      "afdn - float64\n",
      "aff2 - float64\n",
      "agmo - float64\n",
      "agtr2 - float64\n",
      "ahnak - float64\n",
      "ahnak2 - float64\n",
      "akap9 - float64\n",
      "alk - float64\n",
      "apc - float64\n",
      "arid2 - float64\n",
      "arid5b - float64\n",
      "asxl1 - float64\n",
      "asxl2 - float64\n",
      "bap1 - float64\n",
      "bcas3 - float64\n",
      "birc6 - float64\n",
      "cacna2d3 - float64\n",
      "ccnd3 - float64\n",
      "chd1 - float64\n",
      "clk3 - float64\n",
      "clrn2 - float64\n",
      "col12a1 - float64\n",
      "col22a1 - float64\n",
      "col6a3 - float64\n",
      "ctcf - float64\n",
      "ctnna1 - float64\n",
      "ctnna3 - float64\n",
      "dnah11 - float64\n",
      "dnah2 - float64\n",
      "dnah5 - float64\n",
      "dtwd2 - float64\n",
      "fam20c - float64\n",
      "fanca - float64\n",
      "fancd2 - float64\n",
      "flt3 - float64\n",
      "foxp1 - float64\n",
      "frmd3 - float64\n",
      "gh1 - float64\n",
      "gldc - float64\n",
      "gpr32 - float64\n",
      "gps2 - float64\n",
      "hdac9 - float64\n",
      "herc2 - float64\n",
      "hist1h2bc - float64\n",
      "kdm3a - float64\n",
      "kdm6a - float64\n",
      "klrg1 - float64\n",
      "l1cam - float64\n",
      "lama2 - float64\n",
      "lamb3 - float64\n",
      "large1 - float64\n",
      "ldlrap1 - float64\n",
      "lifr - float64\n",
      "lipi - float64\n",
      "magea8 - float64\n",
      "map3k10 - float64\n",
      "map3k13 - float64\n",
      "men1 - float64\n",
      "mtap - float64\n",
      "muc16 - float64\n",
      "myo1a - float64\n",
      "myo3a - float64\n",
      "ncoa3 - float64\n",
      "nek1 - float64\n",
      "nf2 - float64\n",
      "npnt - float64\n",
      "nr2f1 - float64\n",
      "nr3c1 - float64\n",
      "nras - float64\n",
      "nrg3 - float64\n",
      "nt5e - float64\n",
      "or6a2 - float64\n",
      "palld - float64\n",
      "pbrm1 - float64\n",
      "ppp2cb - float64\n",
      "ppp2r2a - float64\n",
      "prkacg - float64\n",
      "prkce - float64\n",
      "prkcq - float64\n",
      "prkcz - float64\n",
      "prkg1 - float64\n",
      "prps2 - float64\n",
      "prr16 - float64\n",
      "ptpn22 - float64\n",
      "ptprm - float64\n",
      "rasgef1b - float64\n",
      "rpgr - float64\n",
      "ryr2 - float64\n",
      "sbno1 - float64\n",
      "setd1a - float64\n",
      "setd2 - float64\n",
      "setdb1 - float64\n",
      "sf3b1 - float64\n",
      "sgcd - float64\n",
      "shank2 - float64\n",
      "siah1 - float64\n",
      "sik1 - float64\n",
      "sik2 - float64\n",
      "smarcb1 - float64\n",
      "smarcc1 - float64\n",
      "smarcc2 - float64\n",
      "smarcd1 - float64\n",
      "spaca1 - float64\n",
      "stab2 - float64\n",
      "stmn2 - float64\n",
      "syne1 - float64\n",
      "taf1 - float64\n",
      "taf4b - float64\n",
      "tbl1xr1 - float64\n",
      "tg - float64\n",
      "thada - float64\n",
      "thsd7a - float64\n",
      "ttyh1 - float64\n",
      "ubr5 - float64\n",
      "ush2a - float64\n",
      "usp9x - float64\n",
      "utrn - float64\n",
      "zfp36l1 - float64\n",
      "ackr3 - float64\n",
      "akr1c1 - float64\n",
      "akr1c2 - float64\n",
      "akr1c3 - float64\n",
      "akr1c4 - float64\n",
      "akt3 - float64\n",
      "ar - float64\n",
      "bche - float64\n",
      "cdk8 - float64\n",
      "cdkn2c - float64\n",
      "cyb5a - float64\n",
      "cyp11a1 - float64\n",
      "cyp11b2 - float64\n",
      "cyp17a1 - float64\n",
      "cyp19a1 - float64\n",
      "cyp21a2 - float64\n",
      "cyp3a43 - float64\n",
      "cyp3a5 - float64\n",
      "cyp3a7 - float64\n",
      "ddc - float64\n",
      "hes6 - float64\n",
      "hsd17b1 - float64\n",
      "hsd17b10 - float64\n",
      "hsd17b11 - float64\n",
      "hsd17b12 - float64\n",
      "hsd17b13 - float64\n",
      "hsd17b14 - float64\n",
      "hsd17b2 - float64\n",
      "hsd17b3 - float64\n",
      "hsd17b4 - float64\n",
      "hsd17b6 - float64\n",
      "hsd17b7 - float64\n",
      "hsd17b8 - float64\n",
      "hsd3b1 - float64\n",
      "hsd3b2 - float64\n",
      "hsd3b7 - float64\n",
      "mecom - float64\n",
      "met - float64\n",
      "ncoa2 - float64\n",
      "nrip1 - float64\n",
      "pik3r3 - float64\n",
      "prkci - float64\n",
      "prkd1 - float64\n",
      "ran - float64\n",
      "rdh5 - float64\n",
      "sdc4 - float64\n",
      "serpini1 - float64\n",
      "shbg - float64\n",
      "slc29a1 - float64\n",
      "sox9 - float64\n",
      "spry2 - float64\n",
      "srd5a1 - float64\n",
      "srd5a2 - float64\n",
      "srd5a3 - float64\n",
      "st7 - float64\n",
      "star - float64\n",
      "tnk2 - float64\n",
      "tulp4 - float64\n",
      "ugt2b15 - float64\n",
      "ugt2b17 - float64\n",
      "ugt2b7 - float64\n",
      "pik3ca_mut - object\n",
      "tp53_mut - object\n",
      "muc16_mut - object\n",
      "ahnak2_mut - object\n",
      "kmt2c_mut - object\n",
      "syne1_mut - object\n",
      "gata3_mut - object\n",
      "map3k1_mut - object\n",
      "ahnak_mut - object\n",
      "dnah11_mut - object\n",
      "cdh1_mut - object\n",
      "dnah2_mut - object\n",
      "kmt2d_mut - object\n",
      "ush2a_mut - object\n",
      "ryr2_mut - object\n",
      "dnah5_mut - object\n",
      "herc2_mut - object\n",
      "pde4dip_mut - object\n",
      "akap9_mut - object\n",
      "tg_mut - object\n",
      "birc6_mut - object\n",
      "utrn_mut - object\n",
      "tbx3_mut - object\n",
      "col6a3_mut - object\n",
      "arid1a_mut - object\n",
      "lama2_mut - object\n",
      "notch1_mut - object\n",
      "cbfb_mut - object\n",
      "ncor2_mut - object\n",
      "col12a1_mut - object\n",
      "col22a1_mut - object\n",
      "pten_mut - object\n",
      "akt1_mut - object\n",
      "atr_mut - object\n",
      "thada_mut - object\n",
      "ncor1_mut - object\n",
      "stab2_mut - object\n",
      "myh9_mut - object\n",
      "runx1_mut - object\n",
      "nf1_mut - object\n",
      "map2k4_mut - object\n",
      "ros1_mut - object\n",
      "lamb3_mut - object\n",
      "arid1b_mut - object\n",
      "erbb2_mut - object\n",
      "sf3b1_mut - object\n",
      "shank2_mut - object\n",
      "ep300_mut - object\n",
      "ptprd_mut - object\n",
      "usp9x_mut - object\n",
      "setd2_mut - object\n",
      "setd1a_mut - object\n",
      "thsd7a_mut - object\n",
      "afdn_mut - object\n",
      "erbb3_mut - object\n",
      "rb1_mut - object\n",
      "myo1a_mut - object\n",
      "alk_mut - object\n",
      "fanca_mut - object\n",
      "adgra2_mut - object\n",
      "ubr5_mut - object\n",
      "pik3r1_mut - object\n",
      "myo3a_mut - object\n",
      "asxl2_mut - object\n",
      "apc_mut - object\n",
      "ctcf_mut - object\n",
      "asxl1_mut - object\n",
      "fancd2_mut - object\n",
      "taf1_mut - object\n",
      "kdm6a_mut - object\n",
      "ctnna3_mut - object\n",
      "brca1_mut - object\n",
      "ptprm_mut - object\n",
      "foxo3_mut - object\n",
      "usp28_mut - object\n",
      "gldc_mut - object\n",
      "brca2_mut - object\n",
      "cacna2d3_mut - object\n",
      "arid2_mut - object\n",
      "aff2_mut - object\n",
      "lifr_mut - object\n",
      "sbno1_mut - object\n",
      "kdm3a_mut - object\n",
      "ncoa3_mut - object\n",
      "bap1_mut - object\n",
      "l1cam_mut - object\n",
      "pbrm1_mut - object\n",
      "chd1_mut - object\n",
      "jak1_mut - object\n",
      "setdb1_mut - object\n",
      "fam20c_mut - object\n",
      "arid5b_mut - object\n",
      "egfr_mut - object\n",
      "map3k10_mut - object\n",
      "smarcc2_mut - object\n",
      "erbb4_mut - object\n",
      "npnt_mut - object\n",
      "nek1_mut - object\n",
      "agmo_mut - object\n",
      "zfp36l1_mut - object\n",
      "smad4_mut - object\n",
      "sik1_mut - object\n",
      "casp8_mut - object\n",
      "prkcq_mut - object\n",
      "smarcc1_mut - object\n",
      "palld_mut - object\n",
      "dcaf4l2_mut - object\n",
      "bcas3_mut - object\n",
      "cdkn1b_mut - object\n",
      "gps2_mut - object\n",
      "men1_mut - object\n",
      "stk11_mut - object\n",
      "sik2_mut - object\n",
      "ptpn22_mut - object\n",
      "brip1_mut - object\n",
      "flt3_mut - object\n",
      "nrg3_mut - object\n",
      "fbxw7_mut - object\n",
      "ttyh1_mut - object\n",
      "taf4b_mut - object\n",
      "or6a2_mut - object\n",
      "map3k13_mut - object\n",
      "hdac9_mut - object\n",
      "prkacg_mut - object\n",
      "rpgr_mut - object\n",
      "large1_mut - object\n",
      "foxp1_mut - object\n",
      "clk3_mut - object\n",
      "prkcz_mut - object\n",
      "lipi_mut - object\n",
      "ppp2r2a_mut - object\n",
      "prkce_mut - object\n",
      "gh1_mut - object\n",
      "gpr32_mut - object\n",
      "kras_mut - object\n",
      "nf2_mut - object\n",
      "chek2_mut - object\n",
      "ldlrap1_mut - object\n",
      "clrn2_mut - object\n",
      "acvrl1_mut - object\n",
      "agtr2_mut - object\n",
      "cdkn2a_mut - object\n",
      "ctnna1_mut - object\n",
      "magea8_mut - object\n",
      "prr16_mut - object\n",
      "dtwd2_mut - object\n",
      "akt2_mut - object\n",
      "braf_mut - object\n",
      "foxo1_mut - object\n",
      "nt5e_mut - object\n",
      "ccnd3_mut - object\n",
      "nr3c1_mut - object\n",
      "prkg1_mut - object\n",
      "tbl1xr1_mut - object\n",
      "frmd3_mut - object\n",
      "smad2_mut - object\n",
      "sgcd_mut - object\n",
      "spaca1_mut - object\n",
      "rasgef1b_mut - object\n",
      "hist1h2bc_mut - object\n",
      "nr2f1_mut - object\n",
      "klrg1_mut - object\n",
      "mbl2_mut - object\n",
      "mtap_mut - object\n",
      "ppp2cb_mut - object\n",
      "smarcd1_mut - object\n",
      "nras_mut - object\n",
      "ndfip1_mut - object\n",
      "hras_mut - object\n",
      "prps2_mut - object\n",
      "smarcb1_mut - object\n",
      "stmn2_mut - object\n",
      "siah1_mut - object\n"
     ]
    }
   ],
   "source": [
    "# printing the datatypes of the columns\n",
    "\n",
    "for i,j in zip(dataset.columns,dataset.dtypes):\n",
    "    print(i,\"-\", j)"
   ]
  },
  {
   "cell_type": "code",
   "execution_count": 6,
   "id": "98d85827",
   "metadata": {},
   "outputs": [
    {
     "data": {
      "text/plain": [
       "patient_id                 0\n",
       "age_at_diagnosis           0\n",
       "type_of_breast_surgery    22\n",
       "cancer_type                0\n",
       "cancer_type_detailed      15\n",
       "                          ..\n",
       "hras_mut                   0\n",
       "prps2_mut                  0\n",
       "smarcb1_mut                0\n",
       "stmn2_mut                  0\n",
       "siah1_mut                  0\n",
       "Length: 693, dtype: int64"
      ]
     },
     "execution_count": 6,
     "metadata": {},
     "output_type": "execute_result"
    }
   ],
   "source": [
    "# to find if the datasets have null value\n",
    "\n",
    "dataset.isnull().sum()"
   ]
  },
  {
   "cell_type": "code",
   "execution_count": 7,
   "id": "5504677e",
   "metadata": {},
   "outputs": [],
   "source": [
    "# replacing the null values with 0 as float type \n",
    "\n",
    "nan_value = []\n",
    "def appending():\n",
    "    if j > 0:\n",
    "        nan_value.append(i)"
   ]
  },
  {
   "cell_type": "code",
   "execution_count": 8,
   "id": "d063a616",
   "metadata": {},
   "outputs": [],
   "source": [
    "for i,j in zip(dataset.columns , dataset.isnull().sum()):\n",
    "    appending()"
   ]
  },
  {
   "cell_type": "code",
   "execution_count": 9,
   "id": "043e381f",
   "metadata": {},
   "outputs": [
    {
     "data": {
      "text/plain": [
       "['type_of_breast_surgery',\n",
       " 'cancer_type_detailed',\n",
       " 'cellularity',\n",
       " 'er_status_measured_by_ihc',\n",
       " 'neoplasm_histologic_grade',\n",
       " 'tumor_other_histologic_subtype',\n",
       " 'primary_tumor_laterality',\n",
       " 'mutation_count',\n",
       " 'oncotree_code',\n",
       " '3-gene_classifier_subtype',\n",
       " 'tumor_size',\n",
       " 'tumor_stage',\n",
       " 'death_from_cancer']"
      ]
     },
     "execution_count": 9,
     "metadata": {},
     "output_type": "execute_result"
    }
   ],
   "source": [
    "nan_value"
   ]
  },
  {
   "cell_type": "code",
   "execution_count": 10,
   "id": "c957b23f",
   "metadata": {},
   "outputs": [],
   "source": [
    "dataset.fillna(dataset.dtypes.replace({'float64': 0.0, 'O': 'NULL'}), inplace=True)"
   ]
  },
  {
   "cell_type": "code",
   "execution_count": 11,
   "id": "5f62de48",
   "metadata": {},
   "outputs": [
    {
     "data": {
      "text/plain": [
       "patient_id                0\n",
       "age_at_diagnosis          0\n",
       "type_of_breast_surgery    0\n",
       "cancer_type               0\n",
       "cancer_type_detailed      0\n",
       "                         ..\n",
       "hras_mut                  0\n",
       "prps2_mut                 0\n",
       "smarcb1_mut               0\n",
       "stmn2_mut                 0\n",
       "siah1_mut                 0\n",
       "Length: 693, dtype: int64"
      ]
     },
     "execution_count": 11,
     "metadata": {},
     "output_type": "execute_result"
    }
   ],
   "source": [
    "# check again to make sure we dont have any more null values\n",
    "\n",
    "dataset.isnull().sum()"
   ]
  },
  {
   "cell_type": "code",
   "execution_count": 12,
   "id": "0646828d",
   "metadata": {},
   "outputs": [
    {
     "data": {
      "text/plain": [
       "0    1103\n",
       "1     801\n",
       "Name: overall_survival, dtype: int64"
      ]
     },
     "execution_count": 12,
     "metadata": {},
     "output_type": "execute_result"
    }
   ],
   "source": [
    "# doing a value count of the target class to see if there is any imbalance \n",
    "\n",
    "dataset[\"overall_survival\"].value_counts()"
   ]
  },
  {
   "cell_type": "code",
   "execution_count": 13,
   "id": "83a863a0",
   "metadata": {},
   "outputs": [],
   "source": [
    "# splitting the dependent and independent columns \n",
    "\n",
    "X = dataset.drop(['patient_id','death_from_cancer', 'overall_survival'], axis=1)\n",
    "y = dataset['overall_survival']"
   ]
  },
  {
   "cell_type": "code",
   "execution_count": 14,
   "id": "880edecf",
   "metadata": {},
   "outputs": [
    {
     "data": {
      "text/html": [
       "<div>\n",
       "<style scoped>\n",
       "    .dataframe tbody tr th:only-of-type {\n",
       "        vertical-align: middle;\n",
       "    }\n",
       "\n",
       "    .dataframe tbody tr th {\n",
       "        vertical-align: top;\n",
       "    }\n",
       "\n",
       "    .dataframe thead th {\n",
       "        text-align: right;\n",
       "    }\n",
       "</style>\n",
       "<table border=\"1\" class=\"dataframe\">\n",
       "  <thead>\n",
       "    <tr style=\"text-align: right;\">\n",
       "      <th></th>\n",
       "      <th>type_of_breast_surgery</th>\n",
       "      <th>cancer_type</th>\n",
       "      <th>cancer_type_detailed</th>\n",
       "      <th>cellularity</th>\n",
       "      <th>pam50_+_claudin-low_subtype</th>\n",
       "      <th>er_status_measured_by_ihc</th>\n",
       "      <th>er_status</th>\n",
       "      <th>her2_status_measured_by_snp6</th>\n",
       "      <th>her2_status</th>\n",
       "      <th>tumor_other_histologic_subtype</th>\n",
       "      <th>...</th>\n",
       "      <th>mtap_mut</th>\n",
       "      <th>ppp2cb_mut</th>\n",
       "      <th>smarcd1_mut</th>\n",
       "      <th>nras_mut</th>\n",
       "      <th>ndfip1_mut</th>\n",
       "      <th>hras_mut</th>\n",
       "      <th>prps2_mut</th>\n",
       "      <th>smarcb1_mut</th>\n",
       "      <th>stmn2_mut</th>\n",
       "      <th>siah1_mut</th>\n",
       "    </tr>\n",
       "  </thead>\n",
       "  <tbody>\n",
       "    <tr>\n",
       "      <th>0</th>\n",
       "      <td>MASTECTOMY</td>\n",
       "      <td>Breast Cancer</td>\n",
       "      <td>Breast Invasive Ductal Carcinoma</td>\n",
       "      <td>NULL</td>\n",
       "      <td>claudin-low</td>\n",
       "      <td>Positve</td>\n",
       "      <td>Positive</td>\n",
       "      <td>NEUTRAL</td>\n",
       "      <td>Negative</td>\n",
       "      <td>Ductal/NST</td>\n",
       "      <td>...</td>\n",
       "      <td>0</td>\n",
       "      <td>0</td>\n",
       "      <td>0</td>\n",
       "      <td>0</td>\n",
       "      <td>0</td>\n",
       "      <td>0</td>\n",
       "      <td>0</td>\n",
       "      <td>0</td>\n",
       "      <td>0</td>\n",
       "      <td>0</td>\n",
       "    </tr>\n",
       "    <tr>\n",
       "      <th>1</th>\n",
       "      <td>BREAST CONSERVING</td>\n",
       "      <td>Breast Cancer</td>\n",
       "      <td>Breast Invasive Ductal Carcinoma</td>\n",
       "      <td>High</td>\n",
       "      <td>LumA</td>\n",
       "      <td>Positve</td>\n",
       "      <td>Positive</td>\n",
       "      <td>NEUTRAL</td>\n",
       "      <td>Negative</td>\n",
       "      <td>Ductal/NST</td>\n",
       "      <td>...</td>\n",
       "      <td>0</td>\n",
       "      <td>0</td>\n",
       "      <td>0</td>\n",
       "      <td>0</td>\n",
       "      <td>0</td>\n",
       "      <td>0</td>\n",
       "      <td>0</td>\n",
       "      <td>0</td>\n",
       "      <td>0</td>\n",
       "      <td>0</td>\n",
       "    </tr>\n",
       "    <tr>\n",
       "      <th>2</th>\n",
       "      <td>MASTECTOMY</td>\n",
       "      <td>Breast Cancer</td>\n",
       "      <td>Breast Invasive Ductal Carcinoma</td>\n",
       "      <td>High</td>\n",
       "      <td>LumB</td>\n",
       "      <td>Positve</td>\n",
       "      <td>Positive</td>\n",
       "      <td>NEUTRAL</td>\n",
       "      <td>Negative</td>\n",
       "      <td>Ductal/NST</td>\n",
       "      <td>...</td>\n",
       "      <td>0</td>\n",
       "      <td>0</td>\n",
       "      <td>0</td>\n",
       "      <td>0</td>\n",
       "      <td>0</td>\n",
       "      <td>0</td>\n",
       "      <td>0</td>\n",
       "      <td>0</td>\n",
       "      <td>0</td>\n",
       "      <td>0</td>\n",
       "    </tr>\n",
       "    <tr>\n",
       "      <th>3</th>\n",
       "      <td>MASTECTOMY</td>\n",
       "      <td>Breast Cancer</td>\n",
       "      <td>Breast Mixed Ductal and Lobular Carcinoma</td>\n",
       "      <td>Moderate</td>\n",
       "      <td>LumB</td>\n",
       "      <td>Positve</td>\n",
       "      <td>Positive</td>\n",
       "      <td>NEUTRAL</td>\n",
       "      <td>Negative</td>\n",
       "      <td>Mixed</td>\n",
       "      <td>...</td>\n",
       "      <td>0</td>\n",
       "      <td>0</td>\n",
       "      <td>0</td>\n",
       "      <td>0</td>\n",
       "      <td>0</td>\n",
       "      <td>0</td>\n",
       "      <td>0</td>\n",
       "      <td>0</td>\n",
       "      <td>0</td>\n",
       "      <td>0</td>\n",
       "    </tr>\n",
       "    <tr>\n",
       "      <th>4</th>\n",
       "      <td>MASTECTOMY</td>\n",
       "      <td>Breast Cancer</td>\n",
       "      <td>Breast Mixed Ductal and Lobular Carcinoma</td>\n",
       "      <td>High</td>\n",
       "      <td>LumB</td>\n",
       "      <td>Positve</td>\n",
       "      <td>Positive</td>\n",
       "      <td>NEUTRAL</td>\n",
       "      <td>Negative</td>\n",
       "      <td>Mixed</td>\n",
       "      <td>...</td>\n",
       "      <td>0</td>\n",
       "      <td>0</td>\n",
       "      <td>0</td>\n",
       "      <td>0</td>\n",
       "      <td>0</td>\n",
       "      <td>0</td>\n",
       "      <td>0</td>\n",
       "      <td>0</td>\n",
       "      <td>0</td>\n",
       "      <td>0</td>\n",
       "    </tr>\n",
       "    <tr>\n",
       "      <th>...</th>\n",
       "      <td>...</td>\n",
       "      <td>...</td>\n",
       "      <td>...</td>\n",
       "      <td>...</td>\n",
       "      <td>...</td>\n",
       "      <td>...</td>\n",
       "      <td>...</td>\n",
       "      <td>...</td>\n",
       "      <td>...</td>\n",
       "      <td>...</td>\n",
       "      <td>...</td>\n",
       "      <td>...</td>\n",
       "      <td>...</td>\n",
       "      <td>...</td>\n",
       "      <td>...</td>\n",
       "      <td>...</td>\n",
       "      <td>...</td>\n",
       "      <td>...</td>\n",
       "      <td>...</td>\n",
       "      <td>...</td>\n",
       "      <td>...</td>\n",
       "    </tr>\n",
       "    <tr>\n",
       "      <th>1899</th>\n",
       "      <td>BREAST CONSERVING</td>\n",
       "      <td>Breast Cancer</td>\n",
       "      <td>Breast Invasive Lobular Carcinoma</td>\n",
       "      <td>High</td>\n",
       "      <td>LumA</td>\n",
       "      <td>Positve</td>\n",
       "      <td>Positive</td>\n",
       "      <td>NEUTRAL</td>\n",
       "      <td>Negative</td>\n",
       "      <td>Lobular</td>\n",
       "      <td>...</td>\n",
       "      <td>0</td>\n",
       "      <td>0</td>\n",
       "      <td>0</td>\n",
       "      <td>0</td>\n",
       "      <td>0</td>\n",
       "      <td>0</td>\n",
       "      <td>0</td>\n",
       "      <td>0</td>\n",
       "      <td>0</td>\n",
       "      <td>0</td>\n",
       "    </tr>\n",
       "    <tr>\n",
       "      <th>1900</th>\n",
       "      <td>MASTECTOMY</td>\n",
       "      <td>Breast Cancer</td>\n",
       "      <td>Breast Invasive Ductal Carcinoma</td>\n",
       "      <td>High</td>\n",
       "      <td>LumB</td>\n",
       "      <td>Positve</td>\n",
       "      <td>Positive</td>\n",
       "      <td>GAIN</td>\n",
       "      <td>Positive</td>\n",
       "      <td>Ductal/NST</td>\n",
       "      <td>...</td>\n",
       "      <td>0</td>\n",
       "      <td>0</td>\n",
       "      <td>0</td>\n",
       "      <td>0</td>\n",
       "      <td>0</td>\n",
       "      <td>0</td>\n",
       "      <td>0</td>\n",
       "      <td>0</td>\n",
       "      <td>0</td>\n",
       "      <td>0</td>\n",
       "    </tr>\n",
       "    <tr>\n",
       "      <th>1901</th>\n",
       "      <td>MASTECTOMY</td>\n",
       "      <td>Breast Cancer</td>\n",
       "      <td>Breast Invasive Ductal Carcinoma</td>\n",
       "      <td>High</td>\n",
       "      <td>LumB</td>\n",
       "      <td>Positve</td>\n",
       "      <td>Positive</td>\n",
       "      <td>NEUTRAL</td>\n",
       "      <td>Negative</td>\n",
       "      <td>Ductal/NST</td>\n",
       "      <td>...</td>\n",
       "      <td>0</td>\n",
       "      <td>0</td>\n",
       "      <td>0</td>\n",
       "      <td>0</td>\n",
       "      <td>0</td>\n",
       "      <td>0</td>\n",
       "      <td>0</td>\n",
       "      <td>0</td>\n",
       "      <td>0</td>\n",
       "      <td>0</td>\n",
       "    </tr>\n",
       "    <tr>\n",
       "      <th>1902</th>\n",
       "      <td>MASTECTOMY</td>\n",
       "      <td>Breast Cancer</td>\n",
       "      <td>Breast Invasive Ductal Carcinoma</td>\n",
       "      <td>Moderate</td>\n",
       "      <td>LumB</td>\n",
       "      <td>Positve</td>\n",
       "      <td>Positive</td>\n",
       "      <td>NEUTRAL</td>\n",
       "      <td>Negative</td>\n",
       "      <td>Ductal/NST</td>\n",
       "      <td>...</td>\n",
       "      <td>0</td>\n",
       "      <td>0</td>\n",
       "      <td>0</td>\n",
       "      <td>0</td>\n",
       "      <td>0</td>\n",
       "      <td>0</td>\n",
       "      <td>0</td>\n",
       "      <td>0</td>\n",
       "      <td>0</td>\n",
       "      <td>0</td>\n",
       "    </tr>\n",
       "    <tr>\n",
       "      <th>1903</th>\n",
       "      <td>BREAST CONSERVING</td>\n",
       "      <td>Breast Cancer</td>\n",
       "      <td>Breast Invasive Ductal Carcinoma</td>\n",
       "      <td>High</td>\n",
       "      <td>LumB</td>\n",
       "      <td>Positve</td>\n",
       "      <td>Positive</td>\n",
       "      <td>NEUTRAL</td>\n",
       "      <td>Negative</td>\n",
       "      <td>Ductal/NST</td>\n",
       "      <td>...</td>\n",
       "      <td>0</td>\n",
       "      <td>0</td>\n",
       "      <td>0</td>\n",
       "      <td>0</td>\n",
       "      <td>0</td>\n",
       "      <td>0</td>\n",
       "      <td>0</td>\n",
       "      <td>0</td>\n",
       "      <td>0</td>\n",
       "      <td>0</td>\n",
       "    </tr>\n",
       "  </tbody>\n",
       "</table>\n",
       "<p>1904 rows × 189 columns</p>\n",
       "</div>"
      ],
      "text/plain": [
       "     type_of_breast_surgery    cancer_type  \\\n",
       "0                MASTECTOMY  Breast Cancer   \n",
       "1         BREAST CONSERVING  Breast Cancer   \n",
       "2                MASTECTOMY  Breast Cancer   \n",
       "3                MASTECTOMY  Breast Cancer   \n",
       "4                MASTECTOMY  Breast Cancer   \n",
       "...                     ...            ...   \n",
       "1899      BREAST CONSERVING  Breast Cancer   \n",
       "1900             MASTECTOMY  Breast Cancer   \n",
       "1901             MASTECTOMY  Breast Cancer   \n",
       "1902             MASTECTOMY  Breast Cancer   \n",
       "1903      BREAST CONSERVING  Breast Cancer   \n",
       "\n",
       "                           cancer_type_detailed cellularity  \\\n",
       "0              Breast Invasive Ductal Carcinoma        NULL   \n",
       "1              Breast Invasive Ductal Carcinoma        High   \n",
       "2              Breast Invasive Ductal Carcinoma        High   \n",
       "3     Breast Mixed Ductal and Lobular Carcinoma    Moderate   \n",
       "4     Breast Mixed Ductal and Lobular Carcinoma        High   \n",
       "...                                         ...         ...   \n",
       "1899          Breast Invasive Lobular Carcinoma        High   \n",
       "1900           Breast Invasive Ductal Carcinoma        High   \n",
       "1901           Breast Invasive Ductal Carcinoma        High   \n",
       "1902           Breast Invasive Ductal Carcinoma    Moderate   \n",
       "1903           Breast Invasive Ductal Carcinoma        High   \n",
       "\n",
       "     pam50_+_claudin-low_subtype er_status_measured_by_ihc er_status  \\\n",
       "0                    claudin-low                   Positve  Positive   \n",
       "1                           LumA                   Positve  Positive   \n",
       "2                           LumB                   Positve  Positive   \n",
       "3                           LumB                   Positve  Positive   \n",
       "4                           LumB                   Positve  Positive   \n",
       "...                          ...                       ...       ...   \n",
       "1899                        LumA                   Positve  Positive   \n",
       "1900                        LumB                   Positve  Positive   \n",
       "1901                        LumB                   Positve  Positive   \n",
       "1902                        LumB                   Positve  Positive   \n",
       "1903                        LumB                   Positve  Positive   \n",
       "\n",
       "     her2_status_measured_by_snp6 her2_status tumor_other_histologic_subtype  \\\n",
       "0                         NEUTRAL    Negative                     Ductal/NST   \n",
       "1                         NEUTRAL    Negative                     Ductal/NST   \n",
       "2                         NEUTRAL    Negative                     Ductal/NST   \n",
       "3                         NEUTRAL    Negative                          Mixed   \n",
       "4                         NEUTRAL    Negative                          Mixed   \n",
       "...                           ...         ...                            ...   \n",
       "1899                      NEUTRAL    Negative                        Lobular   \n",
       "1900                         GAIN    Positive                     Ductal/NST   \n",
       "1901                      NEUTRAL    Negative                     Ductal/NST   \n",
       "1902                      NEUTRAL    Negative                     Ductal/NST   \n",
       "1903                      NEUTRAL    Negative                     Ductal/NST   \n",
       "\n",
       "      ... mtap_mut ppp2cb_mut smarcd1_mut nras_mut ndfip1_mut hras_mut  \\\n",
       "0     ...        0          0           0        0          0        0   \n",
       "1     ...        0          0           0        0          0        0   \n",
       "2     ...        0          0           0        0          0        0   \n",
       "3     ...        0          0           0        0          0        0   \n",
       "4     ...        0          0           0        0          0        0   \n",
       "...   ...      ...        ...         ...      ...        ...      ...   \n",
       "1899  ...        0          0           0        0          0        0   \n",
       "1900  ...        0          0           0        0          0        0   \n",
       "1901  ...        0          0           0        0          0        0   \n",
       "1902  ...        0          0           0        0          0        0   \n",
       "1903  ...        0          0           0        0          0        0   \n",
       "\n",
       "     prps2_mut smarcb1_mut stmn2_mut siah1_mut  \n",
       "0            0           0         0         0  \n",
       "1            0           0         0         0  \n",
       "2            0           0         0         0  \n",
       "3            0           0         0         0  \n",
       "4            0           0         0         0  \n",
       "...        ...         ...       ...       ...  \n",
       "1899         0           0         0         0  \n",
       "1900         0           0         0         0  \n",
       "1901         0           0         0         0  \n",
       "1902         0           0         0         0  \n",
       "1903         0           0         0         0  \n",
       "\n",
       "[1904 rows x 189 columns]"
      ]
     },
     "execution_count": 14,
     "metadata": {},
     "output_type": "execute_result"
    }
   ],
   "source": [
    "# creating one_hot_encoding for object datatype columns to bring it to float values\n",
    "\n",
    "obj_df = X.select_dtypes(include=['object']).copy()\n",
    "obj_df"
   ]
  },
  {
   "cell_type": "code",
   "execution_count": 15,
   "id": "5959ddf8",
   "metadata": {},
   "outputs": [
    {
     "name": "stdout",
     "output_type": "stream",
     "text": [
      "type_of_breast_surgery\n",
      "cancer_type\n",
      "cancer_type_detailed\n",
      "cellularity\n",
      "pam50_+_claudin-low_subtype\n",
      "er_status_measured_by_ihc\n",
      "er_status\n",
      "her2_status_measured_by_snp6\n",
      "her2_status\n",
      "tumor_other_histologic_subtype\n",
      "inferred_menopausal_state\n",
      "integrative_cluster\n",
      "primary_tumor_laterality\n",
      "oncotree_code\n",
      "pr_status\n",
      "3-gene_classifier_subtype\n",
      "pik3ca_mut\n",
      "tp53_mut\n",
      "muc16_mut\n",
      "ahnak2_mut\n",
      "kmt2c_mut\n",
      "syne1_mut\n",
      "gata3_mut\n",
      "map3k1_mut\n",
      "ahnak_mut\n",
      "dnah11_mut\n",
      "cdh1_mut\n",
      "dnah2_mut\n",
      "kmt2d_mut\n",
      "ush2a_mut\n",
      "ryr2_mut\n",
      "dnah5_mut\n",
      "herc2_mut\n",
      "pde4dip_mut\n",
      "akap9_mut\n",
      "tg_mut\n",
      "birc6_mut\n",
      "utrn_mut\n",
      "tbx3_mut\n",
      "col6a3_mut\n",
      "arid1a_mut\n",
      "lama2_mut\n",
      "notch1_mut\n",
      "cbfb_mut\n",
      "ncor2_mut\n",
      "col12a1_mut\n",
      "col22a1_mut\n",
      "pten_mut\n",
      "akt1_mut\n",
      "atr_mut\n",
      "thada_mut\n",
      "ncor1_mut\n",
      "stab2_mut\n",
      "myh9_mut\n",
      "runx1_mut\n",
      "nf1_mut\n",
      "map2k4_mut\n",
      "ros1_mut\n",
      "lamb3_mut\n",
      "arid1b_mut\n",
      "erbb2_mut\n",
      "sf3b1_mut\n",
      "shank2_mut\n",
      "ep300_mut\n",
      "ptprd_mut\n",
      "usp9x_mut\n",
      "setd2_mut\n",
      "setd1a_mut\n",
      "thsd7a_mut\n",
      "afdn_mut\n",
      "erbb3_mut\n",
      "rb1_mut\n",
      "myo1a_mut\n",
      "alk_mut\n",
      "fanca_mut\n",
      "adgra2_mut\n",
      "ubr5_mut\n",
      "pik3r1_mut\n",
      "myo3a_mut\n",
      "asxl2_mut\n",
      "apc_mut\n",
      "ctcf_mut\n",
      "asxl1_mut\n",
      "fancd2_mut\n",
      "taf1_mut\n",
      "kdm6a_mut\n",
      "ctnna3_mut\n",
      "brca1_mut\n",
      "ptprm_mut\n",
      "foxo3_mut\n",
      "usp28_mut\n",
      "gldc_mut\n",
      "brca2_mut\n",
      "cacna2d3_mut\n",
      "arid2_mut\n",
      "aff2_mut\n",
      "lifr_mut\n",
      "sbno1_mut\n",
      "kdm3a_mut\n",
      "ncoa3_mut\n",
      "bap1_mut\n",
      "l1cam_mut\n",
      "pbrm1_mut\n",
      "chd1_mut\n",
      "jak1_mut\n",
      "setdb1_mut\n",
      "fam20c_mut\n",
      "arid5b_mut\n",
      "egfr_mut\n",
      "map3k10_mut\n",
      "smarcc2_mut\n",
      "erbb4_mut\n",
      "npnt_mut\n",
      "nek1_mut\n",
      "agmo_mut\n",
      "zfp36l1_mut\n",
      "smad4_mut\n",
      "sik1_mut\n",
      "casp8_mut\n",
      "prkcq_mut\n",
      "smarcc1_mut\n",
      "palld_mut\n",
      "dcaf4l2_mut\n",
      "bcas3_mut\n",
      "cdkn1b_mut\n",
      "gps2_mut\n",
      "men1_mut\n",
      "stk11_mut\n",
      "sik2_mut\n",
      "ptpn22_mut\n",
      "brip1_mut\n",
      "flt3_mut\n",
      "nrg3_mut\n",
      "fbxw7_mut\n",
      "ttyh1_mut\n",
      "taf4b_mut\n",
      "or6a2_mut\n",
      "map3k13_mut\n",
      "hdac9_mut\n",
      "prkacg_mut\n",
      "rpgr_mut\n",
      "large1_mut\n",
      "foxp1_mut\n",
      "clk3_mut\n",
      "prkcz_mut\n",
      "lipi_mut\n",
      "ppp2r2a_mut\n",
      "prkce_mut\n",
      "gh1_mut\n",
      "gpr32_mut\n",
      "kras_mut\n",
      "nf2_mut\n",
      "chek2_mut\n",
      "ldlrap1_mut\n",
      "clrn2_mut\n",
      "acvrl1_mut\n",
      "agtr2_mut\n",
      "cdkn2a_mut\n",
      "ctnna1_mut\n",
      "magea8_mut\n",
      "prr16_mut\n",
      "dtwd2_mut\n",
      "akt2_mut\n",
      "braf_mut\n",
      "foxo1_mut\n",
      "nt5e_mut\n",
      "ccnd3_mut\n",
      "nr3c1_mut\n",
      "prkg1_mut\n",
      "tbl1xr1_mut\n",
      "frmd3_mut\n",
      "smad2_mut\n",
      "sgcd_mut\n",
      "spaca1_mut\n",
      "rasgef1b_mut\n",
      "hist1h2bc_mut\n",
      "nr2f1_mut\n",
      "klrg1_mut\n",
      "mbl2_mut\n",
      "mtap_mut\n",
      "ppp2cb_mut\n",
      "smarcd1_mut\n",
      "nras_mut\n",
      "ndfip1_mut\n",
      "hras_mut\n",
      "prps2_mut\n",
      "smarcb1_mut\n",
      "stmn2_mut\n",
      "siah1_mut\n"
     ]
    }
   ],
   "source": [
    "for i in obj_df.columns:\n",
    "    print(i)"
   ]
  },
  {
   "cell_type": "code",
   "execution_count": 16,
   "id": "6e3132d4",
   "metadata": {
    "scrolled": true
   },
   "outputs": [
    {
     "name": "stdout",
     "output_type": "stream",
     "text": [
      "      age_at_diagnosis  chemotherapy  cohort  neoplasm_histologic_grade  \\\n",
      "0                75.65             0     1.0                        3.0   \n",
      "1                43.19             0     1.0                        3.0   \n",
      "2                48.87             1     1.0                        2.0   \n",
      "3                47.68             1     1.0                        2.0   \n",
      "4                76.97             1     1.0                        3.0   \n",
      "...                ...           ...     ...                        ...   \n",
      "1899             43.10             0     4.0                        3.0   \n",
      "1900             42.88             0     4.0                        3.0   \n",
      "1901             62.90             0     4.0                        3.0   \n",
      "1902             61.16             0     4.0                        2.0   \n",
      "1903             60.02             0     4.0                        3.0   \n",
      "\n",
      "      hormone_therapy  lymph_nodes_examined_positive  mutation_count  \\\n",
      "0                   1                           10.0             0.0   \n",
      "1                   1                            0.0             2.0   \n",
      "2                   1                            1.0             2.0   \n",
      "3                   1                            3.0             1.0   \n",
      "4                   1                            8.0             2.0   \n",
      "...               ...                            ...             ...   \n",
      "1899                1                            1.0             4.0   \n",
      "1900                0                            1.0             6.0   \n",
      "1901                1                           45.0             4.0   \n",
      "1902                1                           12.0            15.0   \n",
      "1903                1                            1.0             3.0   \n",
      "\n",
      "      nottingham_prognostic_index  overall_survival_months  radio_therapy  \\\n",
      "0                           6.044               140.500000              1   \n",
      "1                           4.020                84.633333              1   \n",
      "2                           4.030               163.700000              0   \n",
      "3                           4.050               164.933333              1   \n",
      "4                           6.080                41.366667              1   \n",
      "...                           ...                      ...            ...   \n",
      "1899                        5.050               196.866667              1   \n",
      "1900                        5.040                44.733333              1   \n",
      "1901                        6.050               175.966667              1   \n",
      "1902                        5.050                86.233333              0   \n",
      "1903                        5.040               201.900000              1   \n",
      "\n",
      "      ...  hras_mut_Q61R  prps2_mut_G255R  prps2_mut_I159F  smarcb1_mut_0  \\\n",
      "0     ...              0                0                0              0   \n",
      "1     ...              0                0                0              0   \n",
      "2     ...              0                0                0              0   \n",
      "3     ...              0                0                0              0   \n",
      "4     ...              0                0                0              0   \n",
      "...   ...            ...              ...              ...            ...   \n",
      "1899  ...              0                0                0              1   \n",
      "1900  ...              0                0                0              1   \n",
      "1901  ...              0                0                0              1   \n",
      "1902  ...              0                0                0              1   \n",
      "1903  ...              0                0                0              1   \n",
      "\n",
      "      smarcb1_mut_D159N  smarcb1_mut_I28L  stmn2_mut_N145K  stmn2_mut_R156H  \\\n",
      "0                     0                 0                0                0   \n",
      "1                     0                 0                0                0   \n",
      "2                     0                 0                0                0   \n",
      "3                     0                 0                0                0   \n",
      "4                     0                 0                0                0   \n",
      "...                 ...               ...              ...              ...   \n",
      "1899                  0                 0                0                0   \n",
      "1900                  0                 0                0                0   \n",
      "1901                  0                 0                0                0   \n",
      "1902                  0                 0                0                0   \n",
      "1903                  0                 0                0                0   \n",
      "\n",
      "      siah1_mut_0  siah1_mut_T249A  \n",
      "0               0                0  \n",
      "1               0                0  \n",
      "2               0                0  \n",
      "3               0                0  \n",
      "4               0                0  \n",
      "...           ...              ...  \n",
      "1899            1                0  \n",
      "1900            1                0  \n",
      "1901            1                0  \n",
      "1902            1                0  \n",
      "1903            1                0  \n",
      "\n",
      "[1904 rows x 8319 columns]\n"
     ]
    }
   ],
   "source": [
    "X = pd.get_dummies(X,columns = list(obj_df.columns.values) , drop_first = True)\n",
    "print(X)"
   ]
  },
  {
   "cell_type": "code",
   "execution_count": 17,
   "id": "de65cb20",
   "metadata": {},
   "outputs": [
    {
     "name": "stderr",
     "output_type": "stream",
     "text": [
      "C:\\Users\\Lekhashree\\anaconda3\\envs\\new - tensorflow\\lib\\site-packages\\seaborn\\_decorators.py:36: FutureWarning: Pass the following variable as a keyword arg: x. From version 0.12, the only valid positional argument will be `data`, and passing other arguments without an explicit keyword will result in an error or misinterpretation.\n",
      "  warnings.warn(\n"
     ]
    },
    {
     "data": {
      "text/plain": [
       "<AxesSubplot:xlabel='overall_survival', ylabel='count'>"
      ]
     },
     "execution_count": 17,
     "metadata": {},
     "output_type": "execute_result"
    },
    {
     "data": {
      "image/png": "[encoded data removed]",
      "text/plain": [
       "<Figure size 432x288 with 1 Axes>"
      ]
     },
     "metadata": {
      "needs_background": "light"
     },
     "output_type": "display_data"
    }
   ],
   "source": [
    "# plotting a  bar-chart to  check the count of the target value\n",
    "\n",
    "sns.countplot('overall_survival',data=dataset)"
   ]
  },
  {
   "cell_type": "code",
   "execution_count": 18,
   "id": "59f772d2",
   "metadata": {},
   "outputs": [
    {
     "name": "stderr",
     "output_type": "stream",
     "text": [
      "C:\\Users\\Lekhashree\\anaconda3\\envs\\new - tensorflow\\lib\\site-packages\\seaborn\\distributions.py:2619: FutureWarning: `distplot` is a deprecated function and will be removed in a future version. Please adapt your code to use either `displot` (a figure-level function with similar flexibility) or `histplot` (an axes-level function for histograms).\n",
      "  warnings.warn(msg, FutureWarning)\n"
     ]
    },
    {
     "data": {
      "text/plain": [
       "<AxesSubplot:xlabel='age_at_diagnosis', ylabel='Density'>"
      ]
     },
     "execution_count": 18,
     "metadata": {},
     "output_type": "execute_result"
    },
    {
     "data": {
      "image/png": "[encoded data removed]",
      "text/plain": [
       "<Figure size 432x288 with 1 Axes>"
      ]
     },
     "metadata": {
      "needs_background": "light"
     },
     "output_type": "display_data"
    }
   ],
   "source": [
    "# plotting a distribution table of the age of the persons diagonosis \n",
    "\n",
    "sns.distplot(dataset[(dataset.overall_survival==0)][\"age_at_diagnosis\"])"
   ]
  },
  {
   "cell_type": "code",
   "execution_count": 19,
   "id": "9e974091",
   "metadata": {},
   "outputs": [],
   "source": [
    "# spliting the dataset into train and test data for model building \n",
    "\n",
    "from sklearn.model_selection import train_test_split\n",
    "X_train, X_test, y_train, y_test = train_test_split(X, y, test_size = 0.3, random_state = 42)"
   ]
  },
  {
   "cell_type": "code",
   "execution_count": 20,
   "id": "408007b1",
   "metadata": {},
   "outputs": [
    {
     "name": "stderr",
     "output_type": "stream",
     "text": [
      "C:\\Users\\Lekhashree\\anaconda3\\envs\\new - tensorflow\\lib\\site-packages\\sklearn\\linear_model\\_logistic.py:763: ConvergenceWarning: lbfgs failed to converge (status=1):\n",
      "STOP: TOTAL NO. of ITERATIONS REACHED LIMIT.\n",
      "\n",
      "Increase the number of iterations (max_iter) or scale the data as shown in:\n",
      "    https://scikit-learn.org/stable/modules/preprocessing.html\n",
      "Please also refer to the documentation for alternative solver options:\n",
      "    https://scikit-learn.org/stable/modules/linear_model.html#logistic-regression\n",
      "  n_iter_i = _check_optimize_result(\n"
     ]
    },
    {
     "data": {
      "text/plain": [
       "LogisticRegression()"
      ]
     },
     "execution_count": 20,
     "metadata": {},
     "output_type": "execute_result"
    }
   ],
   "source": [
    "# implementing the logistic regression model and viewing the report\n",
    "\n",
    "lr = LogisticRegression()\n",
    "lr.fit(X_train, y_train.ravel())"
   ]
  },
  {
   "cell_type": "code",
   "execution_count": 21,
   "id": "e282ba7e",
   "metadata": {},
   "outputs": [],
   "source": [
    "y_pred = lr.predict(X_test)"
   ]
  },
  {
   "cell_type": "code",
   "execution_count": 22,
   "id": "192ce0ba",
   "metadata": {},
   "outputs": [
    {
     "name": "stdout",
     "output_type": "stream",
     "text": [
      "              precision    recall  f1-score   support\n",
      "\n",
      "           0       0.76      0.74      0.75       343\n",
      "           1       0.63      0.65      0.64       229\n",
      "\n",
      "    accuracy                           0.70       572\n",
      "   macro avg       0.69      0.70      0.69       572\n",
      "weighted avg       0.71      0.70      0.71       572\n",
      "\n",
      "\n",
      "\n",
      "[[254  89]\n",
      " [ 80 149]]\n"
     ]
    }
   ],
   "source": [
    "print(classification_report(y_test,y_pred))\n",
    "print('\\n')\n",
    "print(confusion_matrix(y_test,y_pred))"
   ]
  },
  {
   "cell_type": "code",
   "execution_count": 23,
   "id": "e82bc19c",
   "metadata": {},
   "outputs": [
    {
     "data": {
      "text/plain": [
       "<AxesSubplot:>"
      ]
     },
     "execution_count": 23,
     "metadata": {},
     "output_type": "execute_result"
    },
    {
     "data": {
      "image/png": "[encoded data removed]",
      "text/plain": [
       "<Figure size 432x288 with 2 Axes>"
      ]
     },
     "metadata": {
      "needs_background": "light"
     },
     "output_type": "display_data"
    }
   ],
   "source": [
    "# plotting the confusion matrix of the test data \n",
    "\n",
    "sns.heatmap(confusion_matrix(y_test,y_pred),annot=True,cmap='Greens',fmt='g')"
   ]
  },
  {
   "cell_type": "code",
   "execution_count": 24,
   "id": "3c2faac3",
   "metadata": {},
   "outputs": [],
   "source": [
    "# lets try using the smote technique to overcome the class imbalanace\n",
    "\n",
    "from imblearn.over_sampling import SMOTE"
   ]
  },
  {
   "cell_type": "code",
   "execution_count": 25,
   "id": "71c444d8",
   "metadata": {},
   "outputs": [],
   "source": [
    "# applying smote to train data  \n",
    "\n",
    "sm = SMOTE(random_state = 0)\n",
    "X_train_res, y_train_res = sm.fit_resample(X_train, y_train.ravel())"
   ]
  },
  {
   "cell_type": "code",
   "execution_count": 26,
   "id": "f8b34ec6",
   "metadata": {},
   "outputs": [],
   "source": [
    "# applying smote to the test data \n",
    "\n",
    "sm = SMOTE(random_state = 0)\n",
    "X_test_res, y_test_res = sm.fit_resample(X_test, y_test.ravel())"
   ]
  },
  {
   "cell_type": "code",
   "execution_count": 27,
   "id": "a2ac1329",
   "metadata": {},
   "outputs": [
    {
     "data": {
      "text/plain": [
       "((1520, 8319), (686, 8319), (1520,), (686,))"
      ]
     },
     "execution_count": 27,
     "metadata": {},
     "output_type": "execute_result"
    }
   ],
   "source": [
    "# checking the class balance \n",
    "\n",
    "X_train_res.shape , X_test_res.shape , y_train_res.shape, y_test_res.shape"
   ]
  },
  {
   "cell_type": "code",
   "execution_count": 28,
   "id": "fa4747c2",
   "metadata": {},
   "outputs": [
    {
     "name": "stderr",
     "output_type": "stream",
     "text": [
      "C:\\Users\\Lekhashree\\anaconda3\\envs\\new - tensorflow\\lib\\site-packages\\sklearn\\linear_model\\_logistic.py:763: ConvergenceWarning: lbfgs failed to converge (status=1):\n",
      "STOP: TOTAL NO. of ITERATIONS REACHED LIMIT.\n",
      "\n",
      "Increase the number of iterations (max_iter) or scale the data as shown in:\n",
      "    https://scikit-learn.org/stable/modules/preprocessing.html\n",
      "Please also refer to the documentation for alternative solver options:\n",
      "    https://scikit-learn.org/stable/modules/linear_model.html#logistic-regression\n",
      "  n_iter_i = _check_optimize_result(\n"
     ]
    },
    {
     "data": {
      "text/plain": [
       "LogisticRegression()"
      ]
     },
     "execution_count": 28,
     "metadata": {},
     "output_type": "execute_result"
    }
   ],
   "source": [
    "# implementing the logistic regression model for the smote applied data and viewing the report\n",
    "\n",
    "lr1 = LogisticRegression()\n",
    "lr1.fit(X_train_res, y_train_res.ravel())"
   ]
  },
  {
   "cell_type": "code",
   "execution_count": 29,
   "id": "c5971c19",
   "metadata": {},
   "outputs": [
    {
     "name": "stdout",
     "output_type": "stream",
     "text": [
      "              precision    recall  f1-score   support\n",
      "\n",
      "           0       0.70      0.75      0.72       343\n",
      "           1       0.73      0.68      0.70       343\n",
      "\n",
      "    accuracy                           0.71       686\n",
      "   macro avg       0.72      0.71      0.71       686\n",
      "weighted avg       0.72      0.71      0.71       686\n",
      "\n"
     ]
    }
   ],
   "source": [
    "predictions = lr1.predict(X_test_res)\n",
    "\n",
    "print(classification_report(y_test_res, predictions))"
   ]
  },
  {
   "cell_type": "code",
   "execution_count": 30,
   "id": "4b24a75e",
   "metadata": {},
   "outputs": [
    {
     "data": {
      "text/plain": [
       "<AxesSubplot:>"
      ]
     },
     "execution_count": 30,
     "metadata": {},
     "output_type": "execute_result"
    },
    {
     "data": {
      "image/png": "[encoded data removed]",
      "text/plain": [
       "<Figure size 432x288 with 2 Axes>"
      ]
     },
     "metadata": {
      "needs_background": "light"
     },
     "output_type": "display_data"
    }
   ],
   "source": [
    "# plotting confusion matrix for the log-reg model with smote \n",
    "\n",
    "sns.heatmap(confusion_matrix(y_test_res,predictions),annot=True,cmap='Greens',fmt='g')"
   ]
  },
  {
   "cell_type": "code",
   "execution_count": 31,
   "id": "8972df83",
   "metadata": {},
   "outputs": [
    {
     "data": {
      "text/plain": [
       "DecisionTreeClassifier()"
      ]
     },
     "execution_count": 31,
     "metadata": {},
     "output_type": "execute_result"
    }
   ],
   "source": [
    "# implementing decision tree model for the smote applied data and viewing the report\n",
    "\n",
    "from sklearn.tree import DecisionTreeClassifier\n",
    "dt1 =  DecisionTreeClassifier()\n",
    "dt1.fit(X_train_res, y_train_res.ravel())"
   ]
  },
  {
   "cell_type": "code",
   "execution_count": 32,
   "id": "779d6798",
   "metadata": {},
   "outputs": [
    {
     "name": "stdout",
     "output_type": "stream",
     "text": [
      "[[251  92]\n",
      " [111 232]]\n",
      "              precision    recall  f1-score   support\n",
      "\n",
      "           0       0.69      0.73      0.71       343\n",
      "           1       0.72      0.68      0.70       343\n",
      "\n",
      "    accuracy                           0.70       686\n",
      "   macro avg       0.70      0.70      0.70       686\n",
      "weighted avg       0.70      0.70      0.70       686\n",
      "\n"
     ]
    }
   ],
   "source": [
    "prediction = dt1.predict(X_test_res)\n",
    "print(confusion_matrix(y_test_res, prediction))\n",
    "print(classification_report(y_test_res, prediction))"
   ]
  },
  {
   "cell_type": "code",
   "execution_count": 33,
   "id": "c5f0d339",
   "metadata": {},
   "outputs": [
    {
     "data": {
      "text/plain": [
       "<AxesSubplot:>"
      ]
     },
     "execution_count": 33,
     "metadata": {},
     "output_type": "execute_result"
    },
    {
     "data": {
      "image/png": "[encoded data removed]",
      "text/plain": [
       "<Figure size 432x288 with 2 Axes>"
      ]
     },
     "metadata": {
      "needs_background": "light"
     },
     "output_type": "display_data"
    }
   ],
   "source": [
    "# plotting confusion matrix for the decision tree model with smote \n",
    "\n",
    "sns.heatmap(confusion_matrix(y_test_res,prediction),annot=True,cmap='Greens',fmt='g')"
   ]
  },
  {
   "cell_type": "code",
   "execution_count": 34,
   "id": "06dbc9a4",
   "metadata": {},
   "outputs": [],
   "source": [
    "# implementing knn model for the smote applied data and viewing the report\n",
    "\n",
    "knn1 = KNeighborsClassifier(5)\n",
    "knn1.fit(X_train_res,y_train_res)\n",
    "k_pred_res = knn1.predict(X_test_res)"
   ]
  },
  {
   "cell_type": "code",
   "execution_count": 35,
   "id": "141eed3f",
   "metadata": {},
   "outputs": [
    {
     "name": "stdout",
     "output_type": "stream",
     "text": [
      "[[207 136]\n",
      " [ 34 309]]\n",
      "              precision    recall  f1-score   support\n",
      "\n",
      "           0       0.86      0.60      0.71       343\n",
      "           1       0.69      0.90      0.78       343\n",
      "\n",
      "    accuracy                           0.75       686\n",
      "   macro avg       0.78      0.75      0.75       686\n",
      "weighted avg       0.78      0.75      0.75       686\n",
      "\n"
     ]
    }
   ],
   "source": [
    "print(confusion_matrix(y_test_res, k_pred_res))\n",
    "print(classification_report(y_test_res,k_pred_res))"
   ]
  },
  {
   "cell_type": "code",
   "execution_count": 36,
   "id": "820498c7",
   "metadata": {},
   "outputs": [
    {
     "data": {
      "text/plain": [
       "<AxesSubplot:>"
      ]
     },
     "execution_count": 36,
     "metadata": {},
     "output_type": "execute_result"
    },
    {
     "data": {
      "image/png": "[encoded data removed]",
      "text/plain": [
       "<Figure size 432x288 with 2 Axes>"
      ]
     },
     "metadata": {
      "needs_background": "light"
     },
     "output_type": "display_data"
    }
   ],
   "source": [
    "# plotting confusion matrix for the knn model with smote \n",
    "\n",
    "sns.heatmap(confusion_matrix(y_test_res,k_pred_res),annot=True,cmap='Greens',fmt='g')"
   ]
  },
  {
   "cell_type": "code",
   "execution_count": 37,
   "id": "adbb48f2",
   "metadata": {},
   "outputs": [],
   "source": [
    "# lets try the random forest algorithm on this smote data and print the results\n",
    "\n",
    "from sklearn.ensemble import RandomForestClassifier"
   ]
  },
  {
   "cell_type": "code",
   "execution_count": 38,
   "id": "feb1b79b",
   "metadata": {},
   "outputs": [
    {
     "data": {
      "text/plain": [
       "RandomForestClassifier(n_estimators=20, random_state=42)"
      ]
     },
     "execution_count": 38,
     "metadata": {},
     "output_type": "execute_result"
    }
   ],
   "source": [
    "rf1 = RandomForestClassifier(n_estimators = 20, random_state = 42)\n",
    "rf1.fit(X_train_res, y_train_res )"
   ]
  },
  {
   "cell_type": "code",
   "execution_count": 39,
   "id": "6d422516",
   "metadata": {},
   "outputs": [],
   "source": [
    "y_pred1 = rf1.predict(X_test_res)"
   ]
  },
  {
   "cell_type": "code",
   "execution_count": 40,
   "id": "fdf862d3",
   "metadata": {},
   "outputs": [
    {
     "name": "stdout",
     "output_type": "stream",
     "text": [
      "[[246  97]\n",
      " [158 185]]\n",
      "              precision    recall  f1-score   support\n",
      "\n",
      "           0       0.61      0.72      0.66       343\n",
      "           1       0.66      0.54      0.59       343\n",
      "\n",
      "    accuracy                           0.63       686\n",
      "   macro avg       0.63      0.63      0.63       686\n",
      "weighted avg       0.63      0.63      0.63       686\n",
      "\n"
     ]
    }
   ],
   "source": [
    "print(confusion_matrix(y_test_res, y_pred1))\n",
    "print(classification_report(y_test_res,y_pred1))"
   ]
  },
  {
   "cell_type": "code",
   "execution_count": 41,
   "id": "454c5cc4",
   "metadata": {},
   "outputs": [
    {
     "data": {
      "text/plain": [
       "<AxesSubplot:>"
      ]
     },
     "execution_count": 41,
     "metadata": {},
     "output_type": "execute_result"
    },
    {
     "data": {
      "image/png": "[encoded data removed]",
      "text/plain": [
       "<Figure size 432x288 with 2 Axes>"
      ]
     },
     "metadata": {
      "needs_background": "light"
     },
     "output_type": "display_data"
    }
   ],
   "source": [
    "# plotting confusion matrix for the random forest model with smote \n",
    "\n",
    "sns.heatmap(confusion_matrix(y_test_res, y_pred1),annot=True,cmap='Greens',fmt='g')"
   ]
  },
  {
   "cell_type": "code",
   "execution_count": 42,
   "id": "278e4ef7",
   "metadata": {},
   "outputs": [],
   "source": [
    "# implementin gt the dimensionality reduction concept to the data \n",
    "# lets apply the PCA over the smote data and reduce the data to 10 components \n",
    "\n",
    "from sklearn.decomposition import PCA"
   ]
  },
  {
   "cell_type": "code",
   "execution_count": 43,
   "id": "425a6486",
   "metadata": {},
   "outputs": [],
   "source": [
    "pca = PCA(n_components = 10)\n",
    "train_X = pca.fit_transform(X_train_res)\n",
    "test_X = pca.fit_transform(X_test_res)"
   ]
  },
  {
   "cell_type": "code",
   "execution_count": 44,
   "id": "eea45287",
   "metadata": {},
   "outputs": [],
   "source": [
    "# applying pca for logistic regression model \n",
    "\n",
    "pca_log = LogisticRegression()"
   ]
  },
  {
   "cell_type": "code",
   "execution_count": 45,
   "id": "ea86dc0d",
   "metadata": {},
   "outputs": [
    {
     "data": {
      "text/plain": [
       "LogisticRegression()"
      ]
     },
     "execution_count": 45,
     "metadata": {},
     "output_type": "execute_result"
    }
   ],
   "source": [
    "pca_log.fit(train_X, y_train_res)"
   ]
  },
  {
   "cell_type": "code",
   "execution_count": 46,
   "id": "47eaea3f",
   "metadata": {},
   "outputs": [],
   "source": [
    "pca_log_pred = pca_log.predict(test_X)"
   ]
  },
  {
   "cell_type": "code",
   "execution_count": 47,
   "id": "1e7a77e8",
   "metadata": {},
   "outputs": [
    {
     "name": "stdout",
     "output_type": "stream",
     "text": [
      "[[255  88]\n",
      " [ 97 246]]\n",
      "              precision    recall  f1-score   support\n",
      "\n",
      "           0       0.72      0.74      0.73       343\n",
      "           1       0.74      0.72      0.73       343\n",
      "\n",
      "    accuracy                           0.73       686\n",
      "   macro avg       0.73      0.73      0.73       686\n",
      "weighted avg       0.73      0.73      0.73       686\n",
      "\n"
     ]
    }
   ],
   "source": [
    "print(confusion_matrix(y_test_res, pca_log_pred))\n",
    "print(classification_report(y_test_res,pca_log_pred))"
   ]
  },
  {
   "cell_type": "code",
   "execution_count": 48,
   "id": "4dcfa018",
   "metadata": {},
   "outputs": [
    {
     "data": {
      "text/plain": [
       "<AxesSubplot:>"
      ]
     },
     "execution_count": 48,
     "metadata": {},
     "output_type": "execute_result"
    },
    {
     "data": {
      "image/png": "[encoded data removed]",
      "text/plain": [
       "<Figure size 432x288 with 2 Axes>"
      ]
     },
     "metadata": {
      "needs_background": "light"
     },
     "output_type": "display_data"
    }
   ],
   "source": [
    "# plotting confusion matrix for the pca-applied-logistic model \n",
    "\n",
    "sns.heatmap(confusion_matrix(y_test_res, pca_log_pred),annot=True,cmap='Greens',fmt='g')"
   ]
  },
  {
   "cell_type": "code",
   "execution_count": 49,
   "id": "545f130a",
   "metadata": {},
   "outputs": [],
   "source": [
    "# implementing the bagging algorithm over the smote data\n",
    "\n",
    "from sklearn.ensemble import BaggingClassifier"
   ]
  },
  {
   "cell_type": "code",
   "execution_count": 50,
   "id": "054caed2",
   "metadata": {},
   "outputs": [],
   "source": [
    "bag_class = BaggingClassifier(base_estimator=dt1,n_estimators = 100 , max_features = 10 , max_samples = 100)"
   ]
  },
  {
   "cell_type": "code",
   "execution_count": 51,
   "id": "c4596f82",
   "metadata": {},
   "outputs": [],
   "source": [
    "bag_class.fit(X_test_res , y_test_res)\n",
    "b_pred_res = bag_class.predict(X_test_res)"
   ]
  },
  {
   "cell_type": "code",
   "execution_count": 52,
   "id": "5bc433d6",
   "metadata": {},
   "outputs": [
    {
     "name": "stdout",
     "output_type": "stream",
     "text": [
      "[[280  63]\n",
      " [ 56 287]]\n",
      "              precision    recall  f1-score   support\n",
      "\n",
      "           0       0.83      0.82      0.82       343\n",
      "           1       0.82      0.84      0.83       343\n",
      "\n",
      "    accuracy                           0.83       686\n",
      "   macro avg       0.83      0.83      0.83       686\n",
      "weighted avg       0.83      0.83      0.83       686\n",
      "\n"
     ]
    }
   ],
   "source": [
    "print(confusion_matrix(y_test_res, b_pred_res))\n",
    "print(classification_report(y_test_res,b_pred_res)) \n",
    "print(classification_report(y_test, b_pred_res))"
   ]
  },
  {
   "cell_type": "code",
   "execution_count": 53,
   "id": "8063bc77",
   "metadata": {},
   "outputs": [
    {
     "data": {
      "text/plain": [
       "<AxesSubplot:>"
      ]
     },
     "execution_count": 53,
     "metadata": {},
     "output_type": "execute_result"
    },
    {
     "data": {
      "image/png": "[encoded data removed]",
      "text/plain": [
       "<Figure size 432x288 with 2 Axes>"
      ]
     },
     "metadata": {
      "needs_background": "light"
     },
     "output_type": "display_data"
    }
   ],
   "source": [
    "sns.heatmap(confusion_matrix(y_test_res,b_pred_res),annot=True,cmap='Greens',fmt='g')"
   ]
  },
  {
   "cell_type": "markdown",
   "id": "502243e6",
   "metadata": {},
   "source": [
    "## **ACCURACY PREDICTION**"
   ]
  },
  {
   "cell_type": "markdown",
   "id": "b0209701",
   "metadata": {},
   "source": [
    "**LOGISTIC REGRESSION (WITHOUT SMOTE) - 70**"
   ]
  },
  {
   "cell_type": "markdown",
   "id": "c27e0636",
   "metadata": {},
   "source": [
    "**LOGISTIC REGRESSION (WITH SMOTE)    - 75**"
   ]
  },
  {
   "cell_type": "markdown",
   "id": "70da57e2",
   "metadata": {},
   "source": [
    "**DECISION TREE (WITH SMOTE)          - 70**"
   ]
  },
  {
   "cell_type": "markdown",
   "id": "6b31b241",
   "metadata": {},
   "source": [
    "**KNN (WITH SMOTE)                    - 75**"
   ]
  },
  {
   "cell_type": "markdown",
   "id": "57fdaa8a",
   "metadata": {},
   "source": [
    "**RANDOM FOREST (WITH SMOTE)          - 63**"
   ]
  },
  {
   "cell_type": "markdown",
   "id": "870d1799",
   "metadata": {},
   "source": [
    "**PCA (WITH SMOTE)                    - 73**"
   ]
  },
  {
   "cell_type": "markdown",
   "id": "a59a0ec0",
   "metadata": {},
   "source": [
    "**BAGGING (WITH SMOTE)                - 83**"
   ]
  },
  {
   "cell_type": "code",
   "execution_count": null,
   "id": "1cca00f3",
   "metadata": {},
   "outputs": [],
   "source": []
  }
 ],
 "metadata": {
  "kernelspec": {
   "display_name": "Python 3 (ipykernel)",
   "language": "python",
   "name": "python3"
  },
  "language_info": {
   "codemirror_mode": {
    "name": "ipython",
    "version": 3
   },
   "file_extension": ".py",
   "mimetype": "text/x-python",
   "name": "python",
   "nbconvert_exporter": "python",
   "pygments_lexer": "ipython3",
   "version": "3.8.12"
  }
 },
 "nbformat": 4,
 "nbformat_minor": 5
}
